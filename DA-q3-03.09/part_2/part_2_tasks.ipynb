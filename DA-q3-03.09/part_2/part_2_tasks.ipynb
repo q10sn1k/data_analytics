{
 "cells": [
  {
   "cell_type": "code",
   "execution_count": 1,
   "id": "d38b42fa-d0ea-4975-a916-0b06f781654a",
   "metadata": {},
   "outputs": [],
   "source": [
    "# сделайте DataFrame с колонкой \"Salary\" со значениями [145000, 152000, 161000].\n",
    "# 1) Преобразуйте их в строки вида \"45000 руб.\" и сохраните в новой колонке.\n",
    "# 2) Из полученных строк извлеките обратно числа и приведите их к типу int во второй новой колонке.\n",
    "\n",
    "\n",
    "# используйте .astype(str) + конкатенацию; для извлечения - .str.replace(\" руб.\", \"\", regex=False) + .astype(int)\n",
    "#            или .str.extract(r'(\\d+)') + .astype(int).\n"
   ]
  },
  {
   "cell_type": "code",
   "execution_count": 2,
   "id": "e2a35327-f65a-464b-9e2e-dfac918fb6a0",
   "metadata": {},
   "outputs": [],
   "source": [
    "# Постройте DataFrame с колонкой \"URL\" (например: [\"https://site.org\", \"http://example.com\", \"https://docs.org\"]).\n",
    "# Отфильтруйте строки, где адрес оканчивается на \".org\".\n",
    "\n",
    "\n",
    "# примените булеву маску через .str.contains(r'\\.org$', regex=True) и индексацию df[mask].\n"
   ]
  },
  {
   "cell_type": "code",
   "execution_count": 3,
   "id": "a58314e2-1bac-49d3-ab0f-8dfdb8201ed0",
   "metadata": {},
   "outputs": [],
   "source": [
    "# Постройте DataFrame с колонкой \"Record\" со строками формата \"id=105; user=Alice; score=92\".\n",
    "# Извлеките user и score в отдельные колонки (user — строка, score — число).\n",
    "\n",
    "\n",
    "# используйте .str.extract(r'user=([^;]+);\\s*score=(\\d+)'), затем для score — .astype(int).\n"
   ]
  },
  {
   "cell_type": "code",
   "execution_count": 4,
   "id": "a698c1e7-6523-47b4-8343-ba0453ec2828",
   "metadata": {},
   "outputs": [],
   "source": [
    "# создайте Series со значениями [5, 10, 15]. Добавьте в конец значения [20, 25],\n",
    "# а затем добавьте значение [0] в начало. Перенумеруйте индексы по порядку.\n",
    "\n",
    "\n",
    "# объединяйте серии через pd.concat([s, pd.Series([...])], ignore_index=True);\n",
    "#            для добавления в начало — pd.concat([pd.Series([0]), s], ignore_index=True).\n"
   ]
  },
  {
   "cell_type": "code",
   "execution_count": 5,
   "id": "e29bd579-a1b9-4c03-97c1-5e753ae91800",
   "metadata": {},
   "outputs": [],
   "source": [
    "# создайте DataFrame с колонками \"Name\", \"Age\" и тремя строками.\n",
    "# Добавьте сразу две новые строки с теми же колонками.\n",
    "\n",
    "\n",
    "# сформируйте отдельный DataFrame с новыми строками и объедините через pd.concat([...], ignore_index=True).\n"
   ]
  },
  {
   "cell_type": "code",
   "execution_count": 6,
   "id": "d8c46a7d-029f-4321-8770-e646a076c555",
   "metadata": {},
   "outputs": [],
   "source": [
    "# создайте Series с числовыми значениями (например, [2, 4, 1, 5, 3]) и постройте линейный график.\n",
    "# Добавьте заголовок и подписи осей.\n",
    "\n",
    "\n",
    "# используйте .plot(kind='line'), затем plt.title(...), plt.xlabel(...), plt.ylabel(...), plt.show().\n"
   ]
  },
  {
   "cell_type": "code",
   "execution_count": 7,
   "id": "ab8531cf-4016-4891-9513-07a8cf27486b",
   "metadata": {},
   "outputs": [],
   "source": [
    "# создайте DataFrame с тремя числовыми колонками одинаковой длины (например, sales_A, sales_B, sales_C).\n",
    "# Постройте \"стековую\" столбчатую диаграмму (stacked bar) для сравнения вкладов по строкам.\n",
    "\n",
    "# df.plot(kind='bar', stacked=True); дополнительно подпишите оси и легенду (plt.xlabel, plt.ylabel, plt.legend).\n"
   ]
  },
  {
   "cell_type": "code",
   "execution_count": 8,
   "id": "3e14e33a-fd29-4540-9364-116bb733729d",
   "metadata": {},
   "outputs": [],
   "source": [
    "# создайте словарь \"product\" с полями: name, price, qty. Обновите price (новым значением),\n",
    "# добавьте булев ключ in_stock и выведите все ключи и значения словаря.\n",
    "\n",
    "\n",
    "# используйте присваивание product['key'] = value или product.update(...); для просмотра — .keys(), .values(), .items().\n"
   ]
  },
  {
   "cell_type": "code",
   "execution_count": 9,
   "id": "9bc1de66-8709-48d3-a6a3-7234c0328d07",
   "metadata": {},
   "outputs": [],
   "source": [
    "# преобразуйте список словарей вида [{'City': 'Moscow', 'Population': 12.6}, ...] в DataFrame.\n",
    "# Сделайте 'City' индексом и отсортируйте по 'Population' по убыванию.\n",
    "\n",
    "\n",
    "# pd.DataFrame(list_of_dicts); затем .set_index('City') и .sort_values('Population', ascending=False).\n"
   ]
  },
  {
   "cell_type": "code",
   "execution_count": 10,
   "id": "9bb29d92-8835-4dc2-864b-cb8e40c4040c",
   "metadata": {},
   "outputs": [],
   "source": [
    "# создайте DataFrame с колонками \"Name\" и \"BirthYear\". Добавьте вычисляемую колонку \"Age\" как 2025 - BirthYear.\n",
    "\n",
    "\n",
    "# используйте арифметику по столбцам (df['Age'] = 2025 - df['BirthYear']) или метод .assign(Age=...).\n"
   ]
  },
  {
   "cell_type": "code",
   "execution_count": null,
   "id": "57a4d650-e1a9-4ece-90b7-2560f8bced20",
   "metadata": {},
   "outputs": [],
   "source": [
    "# сохраните произвольный DataFrame в Excel (лист \"Data\"), затем прочитайте его обратно в DataFrame.\n",
    "# После этого сохраните те же данные в CSV (без индекса) и JSON (orient='records'), прочитайте оба файла обратно.\n",
    "# На каждом шаге выводите форму и типы данных.\n",
    "\n",
    "\n",
    "# .to_excel(path, index=False, sheet_name='Data') и pd.read_excel(..., sheet_name='Data');\n",
    "#            .to_csv(path, index=False) и pd.read_csv(...);\n",
    "#            .to_json(path, orient='records', force_ascii=False) и pd.read_json(path, orient='records').\n"
   ]
  }
 ],
 "metadata": {
  "kernelspec": {
   "display_name": "Python 3 (ipykernel)",
   "language": "python",
   "name": "python3"
  },
  "language_info": {
   "codemirror_mode": {
    "name": "ipython",
    "version": 3
   },
   "file_extension": ".py",
   "mimetype": "text/x-python",
   "name": "python",
   "nbconvert_exporter": "python",
   "pygments_lexer": "ipython3",
   "version": "3.11.6"
  }
 },
 "nbformat": 4,
 "nbformat_minor": 5
}
