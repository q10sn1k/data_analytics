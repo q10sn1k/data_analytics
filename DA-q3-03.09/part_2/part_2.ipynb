{
 "cells": [
  {
   "cell_type": "code",
   "execution_count": 2,
   "id": "c05cc9a5-9533-4501-bf95-3969674e456e",
   "metadata": {},
   "outputs": [
    {
     "name": "stdout",
     "output_type": "stream",
     "text": [
      "Исходная таблица DataFrame:\n",
      "    Age\n",
      "0   25\n",
      "1   30\n",
      "2   35\n"
     ]
    }
   ],
   "source": [
    "import pandas as pd\n",
    "df = pd.DataFrame({'Age': [25, 30, 35]})\n",
    "print(\"Исходная таблица DataFrame:\\n\", df)"
   ]
  },
  {
   "cell_type": "code",
   "execution_count": 5,
   "id": "a791fbad-6e0e-427e-ac59-dc0957c7e081",
   "metadata": {},
   "outputs": [
    {
     "name": "stdout",
     "output_type": "stream",
     "text": [
      "int64\n"
     ]
    }
   ],
   "source": [
    "print(df['Age'].dtype)"
   ]
  },
  {
   "cell_type": "code",
   "execution_count": 7,
   "id": "335a591a-5e99-428e-9294-753503a29b2d",
   "metadata": {},
   "outputs": [
    {
     "name": "stdout",
     "output_type": "stream",
     "text": [
      "Преобразованная таблица\n",
      "    Age Age_str\n",
      "0   25  25 лет\n",
      "1   30  30 лет\n",
      "2   35  35 лет\n"
     ]
    }
   ],
   "source": [
    "df['Age_str'] = df['Age'].astype(str) + \" лет\"\n",
    "print(\"Преобразованная таблица\\n\", df)"
   ]
  },
  {
   "cell_type": "code",
   "execution_count": 8,
   "id": "b9a036b6-6bc0-4857-8d74-e42c32fb0c51",
   "metadata": {},
   "outputs": [
    {
     "name": "stdout",
     "output_type": "stream",
     "text": [
      "Тип данных колонки Age:\n",
      " int64\n",
      "\n",
      "\n",
      "\n",
      "Тип данных колонки Age_str:\n",
      " object\n"
     ]
    }
   ],
   "source": [
    "print(\"Тип данных колонки Age:\\n\", df['Age'].dtype)\n",
    "print(\"\\n\\n\\nТип данных колонки Age_str:\\n\", df['Age_str'].dtype)"
   ]
  },
  {
   "cell_type": "code",
   "execution_count": 9,
   "id": "5390df02-1bdf-462b-bc6a-c6a91c3fbac7",
   "metadata": {},
   "outputs": [
    {
     "name": "stdout",
     "output_type": "stream",
     "text": [
      "   Age Age_str  Age_recovered\n",
      "0   25  25 лет             25\n",
      "1   30  30 лет             30\n",
      "2   35  35 лет             35\n"
     ]
    }
   ],
   "source": [
    "df['Age_recovered'] = df['Age_str'].str.replace(\" лет\", \"\", regex=False).astype(int)\n",
    "print(df)"
   ]
  },
  {
   "cell_type": "code",
   "execution_count": 10,
   "id": "53050904-cebf-4c3b-ace6-945f29619cb9",
   "metadata": {},
   "outputs": [
    {
     "name": "stdout",
     "output_type": "stream",
     "text": [
      "Тип данных колонки Age_recovered:  int64\n"
     ]
    }
   ],
   "source": [
    "print(\"Тип данных колонки Age_recovered: \", df['Age_recovered'].dtype)"
   ]
  },
  {
   "cell_type": "code",
   "execution_count": 11,
   "id": "7f9b7f59-983d-4deb-9250-44b489199aef",
   "metadata": {},
   "outputs": [
    {
     "name": "stdout",
     "output_type": "stream",
     "text": [
      "Датафрейми в котором удалили колонку Age:\n",
      "   Age_str  Age_recovered\n",
      "0  25 лет             25\n",
      "1  30 лет             30\n",
      "2  35 лет             35\n"
     ]
    }
   ],
   "source": [
    "df = df.drop(\"Age\", axis=1)\n",
    "print(\"Датафрейми в котором удалили колонку Age:\\n\", df)"
   ]
  },
  {
   "cell_type": "code",
   "execution_count": 12,
   "id": "4956d6e4-0b51-42c8-92a2-c926b9c7483f",
   "metadata": {},
   "outputs": [
    {
     "name": "stdout",
     "output_type": "stream",
     "text": [
      "Таблица email (электронные адреса):\n",
      "                Email\n",
      "0  user1@example.com\n",
      "1  user2@example.org\n",
      "2  user3@example.com\n"
     ]
    }
   ],
   "source": [
    "df = pd.DataFrame({\n",
    "    'Email': ['user1@example.com', 'user2@example.org', 'user3@example.com']\n",
    "})\n",
    "print(\"Таблица email (электронные адреса):\\n\", df)"
   ]
  },
  {
   "cell_type": "code",
   "execution_count": 13,
   "id": "ed0c8882-37cf-452f-bc55-5c7be1fba334",
   "metadata": {},
   "outputs": [
    {
     "name": "stdout",
     "output_type": "stream",
     "text": [
      "Отфильтрованная таблица:\n",
      "                Email\n",
      "0  user1@example.com\n",
      "2  user3@example.com\n"
     ]
    }
   ],
   "source": [
    "df_filtered = df[df['Email'].str.contains(r'\\.com$', regex=True)]\n",
    "print(\"Отфильтрованная таблица:\\n\", df_filtered)"
   ]
  },
  {
   "cell_type": "code",
   "execution_count": 14,
   "id": "a22f511e-1be1-40af-b1f5-fe985ecbc623",
   "metadata": {},
   "outputs": [
    {
     "name": "stdout",
     "output_type": "stream",
     "text": [
      "0     True\n",
      "1    False\n",
      "2     True\n",
      "Name: Email, dtype: bool\n"
     ]
    }
   ],
   "source": [
    "mask = df['Email'].str.contains(r'\\.com$', regex=True)\n",
    "print(mask)"
   ]
  },
  {
   "cell_type": "code",
   "execution_count": 18,
   "id": "e4804564-0629-44c4-ad67-a5bb1856534a",
   "metadata": {},
   "outputs": [
    {
     "name": "stdout",
     "output_type": "stream",
     "text": [
      "                     Info\n",
      "0    Name: Alice, Age: 30\n",
      "1      Name: Bob, Age: 25\n",
      "2  Name: Charlie, Age: 35\n"
     ]
    }
   ],
   "source": [
    "df = pd.DataFrame({\n",
    "    \"Info\": [\"Name: Alice, Age: 30\",\n",
    "            \"Name: Bob, Age: 25\",\n",
    "            \"Name: Charlie, Age: 35\"]\n",
    "})\n",
    "\n",
    "print(df)"
   ]
  },
  {
   "cell_type": "code",
   "execution_count": 19,
   "id": "75624d11-6fa7-4a05-9c36-1227366868d7",
   "metadata": {},
   "outputs": [
    {
     "name": "stdout",
     "output_type": "stream",
     "text": [
      "Таблица после извлечения имени и возраста:\n",
      "                      Info     Name Age\n",
      "0    Name: Alice, Age: 30    Alice  30\n",
      "1      Name: Bob, Age: 25      Bob  25\n",
      "2  Name: Charlie, Age: 35  Charlie  35\n"
     ]
    }
   ],
   "source": [
    "df[[\"Name\", \"Age\"]] = df[\"Info\"].str.extract(r'Name: (.+), Age: (\\d+)')\n",
    "\n",
    "print(\"Таблица после извлечения имени и возраста:\\n\" ,df)"
   ]
  },
  {
   "cell_type": "code",
   "execution_count": 20,
   "id": "4bf21e5f-2d11-42a6-868f-8738204644d6",
   "metadata": {},
   "outputs": [
    {
     "name": "stdout",
     "output_type": "stream",
     "text": [
      "Info    object\n",
      "Name    object\n",
      "Age     object\n",
      "dtype: object\n"
     ]
    }
   ],
   "source": [
    "print(df.dtypes)"
   ]
  },
  {
   "cell_type": "code",
   "execution_count": 21,
   "id": "3f081e48-5e6e-4692-a6b0-eab55ccaca51",
   "metadata": {},
   "outputs": [],
   "source": [
    "df['Age'] = df['Age'].astype(int)"
   ]
  },
  {
   "cell_type": "code",
   "execution_count": 22,
   "id": "7557d832-e378-4426-83e1-db3569a7dcec",
   "metadata": {},
   "outputs": [
    {
     "name": "stdout",
     "output_type": "stream",
     "text": [
      "                     Info     Name  Age\n",
      "0    Name: Alice, Age: 30    Alice   30\n",
      "1      Name: Bob, Age: 25      Bob   25\n",
      "2  Name: Charlie, Age: 35  Charlie   35\n"
     ]
    }
   ],
   "source": [
    "print(df)"
   ]
  },
  {
   "cell_type": "code",
   "execution_count": 23,
   "id": "64941797-77ba-42a0-95da-841fe91b8d29",
   "metadata": {},
   "outputs": [
    {
     "name": "stdout",
     "output_type": "stream",
     "text": [
      "Info    object\n",
      "Name    object\n",
      "Age      int64\n",
      "dtype: object\n"
     ]
    }
   ],
   "source": [
    "print(df.dtypes)"
   ]
  },
  {
   "cell_type": "code",
   "execution_count": 24,
   "id": "39e039f9-196a-4518-b4c4-2ff7b8879ebf",
   "metadata": {},
   "outputs": [
    {
     "name": "stdout",
     "output_type": "stream",
     "text": [
      "0    10\n",
      "1    20\n",
      "2    30\n",
      "3    40\n",
      "4    50\n",
      "dtype: int64\n"
     ]
    }
   ],
   "source": [
    "numbers = pd.Series([10, 20, 30, 40, 50])\n",
    "print(numbers)"
   ]
  },
  {
   "cell_type": "code",
   "execution_count": 30,
   "id": "01d1edc9-6fbe-488a-b836-88ff685e84ff",
   "metadata": {},
   "outputs": [
    {
     "name": "stdout",
     "output_type": "stream",
     "text": [
      "int64\n"
     ]
    }
   ],
   "source": [
    "print(numbers.dtype)"
   ]
  },
  {
   "cell_type": "code",
   "execution_count": 31,
   "id": "7069859b-63f8-4090-9c7b-d094fcf4ec67",
   "metadata": {},
   "outputs": [
    {
     "name": "stdout",
     "output_type": "stream",
     "text": [
      "5\n"
     ]
    }
   ],
   "source": [
    "print(len(numbers))"
   ]
  },
  {
   "cell_type": "code",
   "execution_count": 34,
   "id": "9ca16906-a19d-422d-a2bc-5556dcb7fa77",
   "metadata": {},
   "outputs": [
    {
     "name": "stdout",
     "output_type": "stream",
     "text": [
      "0    10\n",
      "1    20\n",
      "2    30\n",
      "3    40\n",
      "4    50\n",
      "5    60\n",
      "dtype: int64\n"
     ]
    }
   ],
   "source": [
    "numbers = pd.concat([numbers, pd.Series([60])], ignore_index=True) # ignore_index=True - заного перенумеровать индексы\n",
    "print(numbers)"
   ]
  },
  {
   "cell_type": "code",
   "execution_count": 35,
   "id": "5289921f-2891-4079-a057-5eef2818a4d6",
   "metadata": {},
   "outputs": [
    {
     "name": "stdout",
     "output_type": "stream",
     "text": [
      "6\n"
     ]
    }
   ],
   "source": [
    "print(len(numbers))"
   ]
  },
  {
   "cell_type": "code",
   "execution_count": 37,
   "id": "222e5191-de75-496a-90f1-6c054123f4d5",
   "metadata": {},
   "outputs": [
    {
     "name": "stdout",
     "output_type": "stream",
     "text": [
      "      Name  Age\n",
      "0    Alice   20\n",
      "1      Bob   35\n",
      "2  Charlie   40\n"
     ]
    }
   ],
   "source": [
    "df = pd.DataFrame({\n",
    "    'Name': [\"Alice\", \"Bob\", \"Charlie\"],\n",
    "    \"Age\": [20, 35, 40]\n",
    "})\n",
    "\n",
    "print(df)"
   ]
  },
  {
   "cell_type": "code",
   "execution_count": 38,
   "id": "8644e767-12ee-4a09-b5d9-7e5d5996b559",
   "metadata": {},
   "outputs": [
    {
     "name": "stdout",
     "output_type": "stream",
     "text": [
      "    Name  Age\n",
      "0  David   45\n"
     ]
    }
   ],
   "source": [
    "new_row_df = pd.DataFrame([{\n",
    "    \"Name\": \"David\", \"Age\": 45\n",
    "}])\n",
    "\n",
    "print(new_row_df)"
   ]
  },
  {
   "cell_type": "code",
   "execution_count": 39,
   "id": "02a6b80c-dda1-4023-aadd-a9f203abee92",
   "metadata": {},
   "outputs": [],
   "source": [
    "df = pd.concat([df, new_row_df], ignore_index=True)"
   ]
  },
  {
   "cell_type": "code",
   "execution_count": 40,
   "id": "dc5f71d4-f2cc-4199-950d-ba32a081b23d",
   "metadata": {},
   "outputs": [
    {
     "name": "stdout",
     "output_type": "stream",
     "text": [
      "      Name  Age\n",
      "0    Alice   20\n",
      "1      Bob   35\n",
      "2  Charlie   40\n",
      "3    David   45\n"
     ]
    }
   ],
   "source": [
    "print(df)"
   ]
  },
  {
   "cell_type": "code",
   "execution_count": 41,
   "id": "0e2b4450-3242-4f46-be07-41215d32f03f",
   "metadata": {},
   "outputs": [
    {
     "name": "stdout",
     "output_type": "stream",
     "text": [
      "0    1\n",
      "1    2\n",
      "2    3\n",
      "3    4\n",
      "4    5\n",
      "dtype: int64\n"
     ]
    }
   ],
   "source": [
    "data = pd.Series([1, 2, 3, 4, 5])\n",
    "print(data)"
   ]
  },
  {
   "cell_type": "code",
   "execution_count": 42,
   "id": "6e97bfb1-2a06-454d-b042-92b99e8e7b96",
   "metadata": {},
   "outputs": [
    {
     "name": "stdout",
     "output_type": "stream",
     "text": [
      "Тип объекта возвращаемого методом plot:\n",
      " <class 'matplotlib.axes._axes.Axes'>\n"
     ]
    },
    {
     "data": {
      "image/png": "[encoded data removed]",
      "text/plain": [
       "<Figure size 640x480 with 1 Axes>"
      ]
     },
     "metadata": {},
     "output_type": "display_data"
    }
   ],
   "source": [
    "ax = data.plot(kind='line', title=\"Линейный график\")\n",
    "print(\"Тип объекта возвращаемого методом plot:\\n\", type(ax))"
   ]
  },
  {
   "cell_type": "code",
   "execution_count": 44,
   "id": "bad21024-11ed-4f1f-bea7-f1be06a31c32",
   "metadata": {},
   "outputs": [
    {
     "data": {
      "image/png": "[encoded data removed]",
      "text/plain": [
       "<Figure size 640x480 with 1 Axes>"
      ]
     },
     "metadata": {},
     "output_type": "display_data"
    }
   ],
   "source": [
    "import matplotlib.pyplot as plt\n",
    "\n",
    "data = pd.Series([1, 2, 3, 4, 5])\n",
    "ax = data.plot(kind='line', title=\"Линейный график\")\n",
    "plt.xlabel(\"Индекс\")\n",
    "plt.ylabel(\"Значение\")\n",
    "\n",
    "plt.show()"
   ]
  },
  {
   "cell_type": "code",
   "execution_count": 45,
   "id": "8db2993e-5fc0-481f-b410-e588844bf0b3",
   "metadata": {},
   "outputs": [
    {
     "name": "stdout",
     "output_type": "stream",
     "text": [
      "   data1  data2\n",
      "0      1      5\n",
      "1      2      4\n",
      "2      3      3\n",
      "3      4      2\n",
      "4      5      1\n"
     ]
    }
   ],
   "source": [
    "df = pd.DataFrame({\n",
    "    'data1': [1, 2, 3, 4, 5],\n",
    "    'data2': [5, 4, 3, 2, 1]\n",
    "})\n",
    "\n",
    "print(df)"
   ]
  },
  {
   "cell_type": "code",
   "execution_count": 46,
   "id": "4d303b49-9ba3-42d6-824f-5caeb74b6f9d",
   "metadata": {},
   "outputs": [
    {
     "name": "stdout",
     "output_type": "stream",
     "text": [
      "Тип объекта возвращаемого методом plot:\n",
      " <class 'matplotlib.axes._axes.Axes'>\n"
     ]
    },
    {
     "data": {
      "image/png": "[encoded data removed]",
      "text/plain": [
       "<Figure size 640x480 with 1 Axes>"
      ]
     },
     "metadata": {},
     "output_type": "display_data"
    }
   ],
   "source": [
    "ax = df.plot(kind='bar', title=\"Сравниваем data1 и data2\")\n",
    "\n",
    "print(\"Тип объекта возвращаемого методом plot:\\n\", type(ax))"
   ]
  },
  {
   "cell_type": "code",
   "execution_count": 47,
   "id": "2fa94fe6-db4b-476c-930f-4b3ccb1406e8",
   "metadata": {},
   "outputs": [
    {
     "data": {
      "image/png": "[encoded data removed]",
      "text/plain": [
       "<Figure size 640x480 with 1 Axes>"
      ]
     },
     "metadata": {},
     "output_type": "display_data"
    }
   ],
   "source": [
    "df = pd.DataFrame({\n",
    "    'data1': [1, 2, 3, 4, 5],\n",
    "    'data2': [5, 4, 3, 2, 1]\n",
    "})\n",
    "\n",
    "ax = df.plot(kind='bar', title=\"Сравниваем data1 и data2\")\n",
    "\n",
    "plt.xlabel(\"Индекс\")\n",
    "plt.ylabel(\"Значения\")\n",
    "\n",
    "plt.show()"
   ]
  },
  {
   "cell_type": "code",
   "execution_count": 48,
   "id": "8eee5b26-4021-4a60-8c2b-c2cd4d747c18",
   "metadata": {},
   "outputs": [
    {
     "name": "stdout",
     "output_type": "stream",
     "text": [
      "{'name': 'Alice', 'age': 22, 'cource': 'DA'}\n"
     ]
    }
   ],
   "source": [
    "student_info = {\n",
    "    'name': 'Alice',\n",
    "    'age': 22,\n",
    "    'cource': 'DA'\n",
    "}\n",
    "\n",
    "print(student_info)"
   ]
  },
  {
   "cell_type": "code",
   "execution_count": 49,
   "id": "38be4851-91ee-4bae-bba6-a0fca84180cc",
   "metadata": {},
   "outputs": [
    {
     "name": "stdout",
     "output_type": "stream",
     "text": [
      "Словарь после добавления key-value:\n",
      " {'name': 'Alice', 'age': 22, 'cource': 'DA', 'major': 'Computer Science'}\n"
     ]
    }
   ],
   "source": [
    "student_info['major'] = \"Computer Science\"\n",
    "print(\"Словарь после добавления key-value:\\n\", student_info)"
   ]
  },
  {
   "cell_type": "code",
   "execution_count": 50,
   "id": "9b2c4575-d09a-443d-9d39-321b249f7b34",
   "metadata": {},
   "outputs": [
    {
     "name": "stdout",
     "output_type": "stream",
     "text": [
      "Исходный словарь:\n",
      " {'Name': ['Alice', 'Bob', 'Charlie'], 'Age': [24, 30, 40], 'Major': ['DA', 'Biology', 'Physics']}\n"
     ]
    }
   ],
   "source": [
    "student_data = {\n",
    "    'Name': ['Alice', 'Bob', 'Charlie'],\n",
    "    'Age': [24, 30, 40],\n",
    "    'Major': ['DA', 'Biology', 'Physics']\n",
    "}\n",
    "print(\"Исходный словарь:\\n\", student_data)"
   ]
  },
  {
   "cell_type": "code",
   "execution_count": 51,
   "id": "aefb8037-d1c8-47bc-b0d7-3b5112f0313c",
   "metadata": {},
   "outputs": [
    {
     "name": "stdout",
     "output_type": "stream",
     "text": [
      "Датафрейм из словаря (таблица):\n",
      "       Name  Age    Major\n",
      "0    Alice   24       DA\n",
      "1      Bob   30  Biology\n",
      "2  Charlie   40  Physics\n"
     ]
    }
   ],
   "source": [
    "students_df = pd.DataFrame(student_data)\n",
    "print(\"Датафрейм из словаря (таблица):\\n\", students_df)"
   ]
  },
  {
   "cell_type": "code",
   "execution_count": 52,
   "id": "30779e36-da1d-442a-b96f-efdbf32e5510",
   "metadata": {},
   "outputs": [
    {
     "name": "stdout",
     "output_type": "stream",
     "text": [
      "Размер таблицы:\n",
      " (3, 3)\n"
     ]
    }
   ],
   "source": [
    "print(\"Размер таблицы:\\n\", students_df.shape)"
   ]
  },
  {
   "cell_type": "code",
   "execution_count": 53,
   "id": "ebedbfab-a72e-470c-825a-ff9e281024fc",
   "metadata": {},
   "outputs": [
    {
     "name": "stdout",
     "output_type": "stream",
     "text": [
      "Типы данных столбцов:\n",
      " Name     object\n",
      "Age       int64\n",
      "Major    object\n",
      "dtype: object\n"
     ]
    }
   ],
   "source": [
    "print(\"Типы данных столбцов:\\n\", students_df.dtypes)"
   ]
  },
  {
   "cell_type": "code",
   "execution_count": 55,
   "id": "ea49a4d2-20d7-4d4a-bfec-79e7d22d8c40",
   "metadata": {},
   "outputs": [
    {
     "name": "stdout",
     "output_type": "stream",
     "text": [
      "DataFrame с новой колонкой:\n",
      "       Name  Age    Major Grade\n",
      "0    Alice   24       DA     A\n",
      "1      Bob   30  Biology     B\n",
      "2  Charlie   40  Physics     A\n"
     ]
    }
   ],
   "source": [
    "students_df['Grade'] = [\"A\", \"B\", \"A\"]\n",
    "print(\"DataFrame с новой колонкой:\\n\", students_df)"
   ]
  },
  {
   "cell_type": "code",
   "execution_count": 56,
   "id": "694aeed6-40ad-448f-a787-89afd1108d7b",
   "metadata": {},
   "outputs": [
    {
     "name": "stdout",
     "output_type": "stream",
     "text": [
      "(3, 4)\n"
     ]
    }
   ],
   "source": [
    "print(students_df.shape)"
   ]
  },
  {
   "cell_type": "code",
   "execution_count": 58,
   "id": "8b740618-4826-4380-8cbe-b55a91c5a3d7",
   "metadata": {},
   "outputs": [
    {
     "name": "stdout",
     "output_type": "stream",
     "text": [
      "Name     object\n",
      "Age       int64\n",
      "Major    object\n",
      "Grade    object\n",
      "dtype: object\n"
     ]
    }
   ],
   "source": [
    "print(students_df.dtypes)"
   ]
  },
  {
   "cell_type": "code",
   "execution_count": 59,
   "id": "38474f6f-1537-4d75-be43-eacdade18cf3",
   "metadata": {},
   "outputs": [
    {
     "name": "stdout",
     "output_type": "stream",
     "text": [
      "\n",
      "Файл Excel записан: students.xlsx\n"
     ]
    }
   ],
   "source": [
    "# запись в Excel и чтение из Excel\n",
    "\n",
    "excel_path = \"students.xlsx\"\n",
    "\n",
    "try:\n",
    "    students_df.to_excel(excel_path, index=False, sheet_name = \"Students\")\n",
    "    print(f\"\\nФайл Excel записан: {excel_path}\")\n",
    "except Exception as e:\n",
    "    print(\"\\n[Warning] Не удалось записать Excel\")\n",
    "    print(\"Исключение:\\n\", repr(e))"
   ]
  },
  {
   "cell_type": "code",
   "execution_count": 60,
   "id": "ede3b054-656a-4621-ac45-1ebbd6d3dd48",
   "metadata": {},
   "outputs": [
    {
     "name": "stdout",
     "output_type": "stream",
     "text": [
      "      Name  Age    Major Grade\n",
      "0    Alice   24       DA     A\n",
      "1      Bob   30  Biology     B\n",
      "2  Charlie   40  Physics     A\n"
     ]
    }
   ],
   "source": [
    "df_from_excel = pd.read_excel(excel_path, sheet_name = \"Students\")\n",
    "print(df_from_excel)"
   ]
  },
  {
   "cell_type": "code",
   "execution_count": 63,
   "id": "24f69d98-ea24-4ef5-b9b5-cd58862e0b8c",
   "metadata": {},
   "outputs": [
    {
     "name": "stdout",
     "output_type": "stream",
     "text": [
      "Файл csv записан:\n",
      " students.csv\n"
     ]
    }
   ],
   "source": [
    "csv_path = \"students.csv\"\n",
    "\n",
    "df_from_excel.to_csv(csv_path, index=False, encoding='utf-8')\n",
    "print(f\"Файл csv записан:\\n {csv_path}\")"
   ]
  },
  {
   "cell_type": "code",
   "execution_count": 64,
   "id": "702f49e4-85f3-4685-a3e0-290918d365e9",
   "metadata": {},
   "outputs": [],
   "source": [
    "df_from_csv = pd.read_csv(csv_path, encoding='utf-8')"
   ]
  },
  {
   "cell_type": "code",
   "execution_count": 65,
   "id": "c0c40308-1d29-4cb9-a49b-4bc38e436a99",
   "metadata": {},
   "outputs": [
    {
     "name": "stdout",
     "output_type": "stream",
     "text": [
      "      Name  Age    Major Grade\n",
      "0    Alice   24       DA     A\n",
      "1      Bob   30  Biology     B\n",
      "2  Charlie   40  Physics     A\n"
     ]
    }
   ],
   "source": [
    "print(df_from_csv)"
   ]
  },
  {
   "cell_type": "code",
   "execution_count": 69,
   "id": "350dc300-fd3c-4e7d-b845-878ba09123a0",
   "metadata": {},
   "outputs": [
    {
     "name": "stdout",
     "output_type": "stream",
     "text": [
      "Файл json записан:\n",
      " students.json\n"
     ]
    }
   ],
   "source": [
    "json_path = \"students.json\"\n",
    "\n",
    "df_from_csv.to_json(json_path, orient='records', force_ascii=False)\n",
    "print(f\"Файл json записан:\\n {json_path}\")"
   ]
  },
  {
   "cell_type": "code",
   "execution_count": 70,
   "id": "f3c4c926-decf-4534-ba8c-c324f332b3ff",
   "metadata": {},
   "outputs": [
    {
     "name": "stdout",
     "output_type": "stream",
     "text": [
      "      Name  Age    Major Grade\n",
      "0    Alice   24       DA     A\n",
      "1      Bob   30  Biology     B\n",
      "2  Charlie   40  Physics     A\n"
     ]
    }
   ],
   "source": [
    "df_from_json = pd.read_json(json_path, orient='records')\n",
    "print(df_from_json)"
   ]
  },
  {
   "cell_type": "code",
   "execution_count": null,
   "id": "dbdc12e2-b0c7-4193-924c-159a1098193a",
   "metadata": {},
   "outputs": [],
   "source": []
  }
 ],
 "metadata": {
  "kernelspec": {
   "display_name": "Python 3 (ipykernel)",
   "language": "python",
   "name": "python3"
  },
  "language_info": {
   "codemirror_mode": {
    "name": "ipython",
    "version": 3
   },
   "file_extension": ".py",
   "mimetype": "text/x-python",
   "name": "python",
   "nbconvert_exporter": "python",
   "pygments_lexer": "ipython3",
   "version": "3.11.6"
  }
 },
 "nbformat": 4,
 "nbformat_minor": 5
}
