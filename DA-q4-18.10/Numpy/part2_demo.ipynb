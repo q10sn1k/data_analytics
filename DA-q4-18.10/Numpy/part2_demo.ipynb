{
 "cells": [
  {
   "cell_type": "code",
   "execution_count": 38,
   "id": "d5114799-f6fd-471b-ad8c-c46470511613",
   "metadata": {},
   "outputs": [],
   "source": [
    "import numpy as np"
   ]
  },
  {
   "cell_type": "code",
   "execution_count": 3,
   "id": "74646a0c-a5e6-49fc-8f1a-5a3d8ffbf3ef",
   "metadata": {},
   "outputs": [
    {
     "name": "stdout",
     "output_type": "stream",
     "text": [
      "A:\n",
      " [[1 2 3]\n",
      " [4 5 6]]\n",
      "B:\n",
      " [[10 20]\n",
      " [30 40]\n",
      " [50 60]]\n",
      "\n",
      "\n",
      "A.shape: (2, 3) |   B.shape: (3, 2)\n"
     ]
    }
   ],
   "source": [
    "# умножение матриц . согласование форм (2Х3) * (3Х2)\n",
    "A = np.array([[1, 2, 3],\n",
    "             [4, 5, 6]])\n",
    "B = np.array([[10, 20],\n",
    "             [30, 40],\n",
    "             [50, 60]])\n",
    "\n",
    "print(\"A:\\n\", A)\n",
    "print(\"B:\\n\", B)\n",
    "print(\"\\n\\nA.shape:\", A.shape, \"|   B.shape:\", B.shape)"
   ]
  },
  {
   "cell_type": "code",
   "execution_count": 6,
   "id": "adc7674a-d266-4bf1-8053-3dad9936d399",
   "metadata": {},
   "outputs": [
    {
     "name": "stdout",
     "output_type": "stream",
     "text": [
      "C = [[220 280]\n",
      " [490 640]]\n",
      "Shape C: (2, 2)\n"
     ]
    }
   ],
   "source": [
    "# матричное произведение\n",
    "# dot , @\n",
    "C = np.dot(A, B)\n",
    "print(\"C =\", C)\n",
    "# (2, 2)\n",
    "print(\"Shape C:\", C.shape)"
   ]
  },
  {
   "cell_type": "code",
   "execution_count": 9,
   "id": "3b32fd2b-a931-418f-bb89-c6eb39ab8dde",
   "metadata": {},
   "outputs": [
    {
     "name": "stdout",
     "output_type": "stream",
     "text": [
      "Matrix A:\n",
      " [[1 2 3]\n",
      " [4 5 6]]\n",
      "Matrix B:\n",
      " [[10 20 30]\n",
      " [40 50 60]]\n",
      "A.Shape (2, 3) B.Shape (2, 3)\n"
     ]
    }
   ],
   "source": [
    "# поэлементное умножение массивов ОДИНАКОВОЙ формы\n",
    "A = np.array([[1, 2, 3],\n",
    "              [4, 5, 6]])\n",
    "B = np.array([[10, 20, 30],\n",
    "             [40, 50, 60]])\n",
    "\n",
    "print(\"Matrix A:\\n\", A)\n",
    "print(\"Matrix B:\\n\", B)\n",
    "print(\"A.Shape\", A.shape, \"B.Shape\", B.shape)"
   ]
  },
  {
   "cell_type": "code",
   "execution_count": 11,
   "id": "ee5cbca4-7193-4da0-8a6b-de4b83246640",
   "metadata": {},
   "outputs": [
    {
     "name": "stdout",
     "output_type": "stream",
     "text": [
      "Matrix C:\n",
      " [[ 10  40  90]\n",
      " [160 250 360]]\n",
      "C.shape: (2, 3)\n"
     ]
    }
   ],
   "source": [
    "# Поэлементное умножение\n",
    "C = A * B\n",
    "print(\"Matrix C:\\n\", C)\n",
    "print(\"C.shape:\", C.shape)"
   ]
  },
  {
   "cell_type": "code",
   "execution_count": 12,
   "id": "41edb910-2f54-453e-90ac-fce4556cb437",
   "metadata": {},
   "outputs": [
    {
     "name": "stdout",
     "output_type": "stream",
     "text": [
      "Matrix M:\n",
      " [[1 2 3]\n",
      " [4 5 6]]\n",
      "M.Shape (2, 3)\n"
     ]
    }
   ],
   "source": [
    "# транспонирование матрицы (поворот осей)\n",
    "M = np.array([[1, 2, 3],\n",
    "              [4, 5, 6]])\n",
    "print(\"Matrix M:\\n\", M)\n",
    "print(\"M.Shape\", M.shape)"
   ]
  },
  {
   "cell_type": "code",
   "execution_count": 14,
   "id": "0a60deb5-c1ac-4828-9306-3083a2070d84",
   "metadata": {},
   "outputs": [
    {
     "name": "stdout",
     "output_type": "stream",
     "text": [
      "T Matrix\n",
      " [[1 4]\n",
      " [2 5]\n",
      " [3 6]]\n"
     ]
    }
   ],
   "source": [
    "# Транспонирование (строки становятся столбцами)\n",
    "T = M.T\n",
    "print(\"T Matrix\\n\", T)"
   ]
  },
  {
   "cell_type": "code",
   "execution_count": 15,
   "id": "9184b785-13dc-46fd-92d5-f0d5eeb88f4e",
   "metadata": {},
   "outputs": [
    {
     "name": "stdout",
     "output_type": "stream",
     "text": [
      "T.shape: (3, 2)\n"
     ]
    }
   ],
   "source": [
    "print(\"T.shape:\", T.shape)"
   ]
  },
  {
   "cell_type": "code",
   "execution_count": 17,
   "id": "90b57869-27cd-4e0b-80ef-7d44caf85dbd",
   "metadata": {},
   "outputs": [
    {
     "name": "stdout",
     "output_type": "stream",
     "text": [
      "x: [-3 -1  0  1  2  3]\n"
     ]
    }
   ],
   "source": [
    "# Выборка элементов по условию. Булева Маска.\n",
    "x = np.array([-3, -1, 0, 1, 2 , 3])\n",
    "print(\"x:\", x)"
   ]
  },
  {
   "cell_type": "code",
   "execution_count": 18,
   "id": "7c2bb349-bba1-44ac-9d4e-cde54fac6d79",
   "metadata": {},
   "outputs": [
    {
     "name": "stdout",
     "output_type": "stream",
     "text": [
      "x.shape: (6,)\n"
     ]
    }
   ],
   "source": [
    "print(\"x.shape:\", x.shape)"
   ]
  },
  {
   "cell_type": "code",
   "execution_count": 19,
   "id": "0e8e6eb2-1714-4472-8115-38898f445008",
   "metadata": {},
   "outputs": [
    {
     "name": "stdout",
     "output_type": "stream",
     "text": [
      "mask: [False False False  True  True  True]  | dtype: bool\n"
     ]
    }
   ],
   "source": [
    "mask = x > 0 # маска - только положительные элементы\n",
    "print(\"mask:\", mask, \" | dtype:\", mask.dtype)"
   ]
  },
  {
   "cell_type": "code",
   "execution_count": 20,
   "id": "23f84f2f-9fa7-463f-a16a-0021cf3941ed",
   "metadata": {},
   "outputs": [
    {
     "name": "stdout",
     "output_type": "stream",
     "text": [
      "Положительные элементы: [1 2 3] | Shape: (3,)\n"
     ]
    }
   ],
   "source": [
    "# отбор по маске\n",
    "pos = x[mask]\n",
    "print(\"Положительные элементы:\", pos, \"| Shape:\", pos.shape)"
   ]
  },
  {
   "cell_type": "code",
   "execution_count": 21,
   "id": "5c7a0449-abd7-4c0f-9976-6a2bd60c40bc",
   "metadata": {},
   "outputs": [
    {
     "name": "stdout",
     "output_type": "stream",
     "text": [
      "x: [-3 -1  0  1  2  3]\n"
     ]
    }
   ],
   "source": [
    "print(\"x:\", x)"
   ]
  },
  {
   "cell_type": "code",
   "execution_count": 22,
   "id": "a25a8e39-f4c1-49c4-9ab1-8cd739794c35",
   "metadata": {},
   "outputs": [
    {
     "name": "stdout",
     "output_type": "stream",
     "text": [
      "x.shape: (6,)\n"
     ]
    }
   ],
   "source": [
    "print(\"x.shape:\", x.shape)"
   ]
  },
  {
   "cell_type": "code",
   "execution_count": 33,
   "id": "6de2436d-7e30-49e9-8935-4fe7729c3586",
   "metadata": {},
   "outputs": [
    {
     "name": "stdout",
     "output_type": "stream",
     "text": [
      "x: [-5 -4 -3 -2 -1  0  1  2  3  4  5]\n"
     ]
    }
   ],
   "source": [
    "# комбинированные условия\n",
    "x = np.arange(-5, 6)\n",
    "print(\"x:\", x)"
   ]
  },
  {
   "cell_type": "code",
   "execution_count": 34,
   "id": "581958ad-4d64-4d0f-b206-479079ee8585",
   "metadata": {},
   "outputs": [
    {
     "name": "stdout",
     "output_type": "stream",
     "text": [
      "mask: [False False False False False False False  True False  True False]\n"
     ]
    }
   ],
   "source": [
    "# выберем только положительнввые четные числа\n",
    "mask = (x > 0) & (x % 2 == 0)\n",
    "print(\"mask:\", mask)"
   ]
  },
  {
   "cell_type": "code",
   "execution_count": 35,
   "id": "ef6e87ed-38af-4728-8210-652a25aaf6c6",
   "metadata": {},
   "outputs": [
    {
     "name": "stdout",
     "output_type": "stream",
     "text": [
      "Положительные четные: [2 4] | shape: (2,)\n"
     ]
    }
   ],
   "source": [
    "res = x[mask]\n",
    "print(\"Положительные четные:\", res, \"| shape:\", res.shape)"
   ]
  },
  {
   "cell_type": "code",
   "execution_count": 36,
   "id": "4469d5fd-6cbe-4788-8502-86c502a8399f",
   "metadata": {},
   "outputs": [
    {
     "name": "stdout",
     "output_type": "stream",
     "text": [
      "M (до):\n",
      " [[-6 -5 -4 -3]\n",
      " [-2 -1  0  1]\n",
      " [ 2  3  4  5]]\n",
      "\n",
      "mask:\n",
      " [[ True  True  True  True]\n",
      " [ True  True False False]\n",
      " [False False False False]]\n",
      "\n",
      "M (после, отрицательные заменены на 0):\n",
      " [[0 0 0 0]\n",
      " [0 0 0 1]\n",
      " [2 3 4 5]]\n"
     ]
    }
   ],
   "source": [
    "import numpy as np\n",
    "\n",
    "# Булева индексация: изменение массива по месту\n",
    "M = np.arange(-6, 6).reshape(3, 4)   # матрица 3×4 от -6 до 5\n",
    "print(\"M (до):\\n\", M)\n",
    "\n",
    "# Условие: элементы меньше 0\n",
    "mask = M < 0\n",
    "print(\"\\nmask:\\n\", mask)\n",
    "\n",
    "# Замена отрицательных значений на 0\n",
    "M[mask] = 0\n",
    "print(\"\\nM (после, отрицательные заменены на 0):\\n\", M)\n"
   ]
  },
  {
   "cell_type": "code",
   "execution_count": 41,
   "id": "4e72f398-3dad-4403-8bf0-fdcb8a13c827",
   "metadata": {},
   "outputs": [
    {
     "name": "stdout",
     "output_type": "stream",
     "text": [
      "Исходная матрица M:\n",
      " [[-6 -5 -4 -3]\n",
      " [-2 -1  0  1]\n",
      " [ 2  3  4  5]]\n"
     ]
    }
   ],
   "source": [
    "# gпрямое изменение массива\n",
    "M = np.arange(-6, 6).reshape(3, 4)\n",
    "print(\"Исходная матрица M:\\n\", M)"
   ]
  },
  {
   "cell_type": "code",
   "execution_count": 42,
   "id": "7ee6fc9c-f7de-4499-bddc-db514630efc5",
   "metadata": {},
   "outputs": [
    {
     "name": "stdout",
     "output_type": "stream",
     "text": [
      "Mask:\n",
      " [[ True  True  True  True]\n",
      " [ True  True False False]\n",
      " [False False False False]]\n"
     ]
    }
   ],
   "source": [
    "# элементы меньше 0\n",
    "mask = M < 0\n",
    "print(\"Mask:\\n\", mask)"
   ]
  },
  {
   "cell_type": "code",
   "execution_count": 43,
   "id": "204eeaa9-4ad5-497c-b5ea-902eaf3f006c",
   "metadata": {},
   "outputs": [
    {
     "name": "stdout",
     "output_type": "stream",
     "text": [
      "Матрица M после валидационного условия (маски):\n",
      " [[0 0 0 0]\n",
      " [0 0 0 1]\n",
      " [2 3 4 5]]\n"
     ]
    }
   ],
   "source": [
    "# Меняем отрицательные значения на 0 (по маске)\n",
    "M[mask] = 0\n",
    "print(\"Матрица M после валидационного условия (маски):\\n\", M)"
   ]
  },
  {
   "cell_type": "code",
   "execution_count": 44,
   "id": "45518540-c24c-4450-8e7a-aa489950382b",
   "metadata": {},
   "outputs": [
    {
     "name": "stdout",
     "output_type": "stream",
     "text": [
      "x: [-3 -1  0  1  2  3] |  shape: (6,)\n"
     ]
    }
   ],
   "source": [
    "# условное преобразование с where\n",
    "x = np.array([-3, -1, 0, 1 , 2 , 3])\n",
    "print(\"x:\", x, \"|  shape:\", x.shape)"
   ]
  },
  {
   "cell_type": "code",
   "execution_count": 45,
   "id": "b1272ccd-7c84-4c7a-b7cf-f9ea6db6f0d2",
   "metadata": {},
   "outputs": [
    {
     "name": "stdout",
     "output_type": "stream",
     "text": [
      "y: [-1 -1  0  1  4  9] | shape: (6,)\n"
     ]
    }
   ],
   "source": [
    "y = np.where(x >= 0, x**2, -1)\n",
    "print(\"y:\", y, \"| shape:\", y.shape)"
   ]
  },
  {
   "cell_type": "code",
   "execution_count": 48,
   "id": "64bbb519-8016-4d00-bbf6-2d5c7d4aa80e",
   "metadata": {},
   "outputs": [
    {
     "name": "stdout",
     "output_type": "stream",
     "text": [
      "M: [[ 1  2  3  4]\n",
      " [ 5  6  7  8]\n",
      " [ 9 10 11 12]]\n",
      "M.shape: (3, 4)\n"
     ]
    }
   ],
   "source": [
    "# Сумма по осям в матрице\n",
    "M = np.arange(1,13).reshape(3, 4)\n",
    "print(\"M:\", M)\n",
    "print(\"M.shape:\", M.shape)"
   ]
  },
  {
   "cell_type": "code",
   "execution_count": 49,
   "id": "fd46db81-e0bb-4875-8054-6a72e4f2bdfb",
   "metadata": {},
   "outputs": [
    {
     "name": "stdout",
     "output_type": "stream",
     "text": [
      "78\n"
     ]
    }
   ],
   "source": [
    "# Сумма всех элементов\n",
    "total = M.sum()\n",
    "print(total)"
   ]
  },
  {
   "cell_type": "code",
   "execution_count": 50,
   "id": "9e87bbc9-efc0-45eb-9a11-b13e74e3bf35",
   "metadata": {},
   "outputs": [
    {
     "name": "stdout",
     "output_type": "stream",
     "text": [
      "сумма по строкам: [10 26 42] shape: (3,)\n"
     ]
    }
   ],
   "source": [
    "# сумма по строкам\n",
    "row_sum = M.sum(axis=1) # вдоль строк\n",
    "print(\"сумма по строкам:\", row_sum, \"shape:\", row_sum.shape)"
   ]
  },
  {
   "cell_type": "code",
   "execution_count": 51,
   "id": "e7f30944-0124-4645-9e27-9d62606ed1aa",
   "metadata": {},
   "outputs": [
    {
     "name": "stdout",
     "output_type": "stream",
     "text": [
      "суммы по столбцам: [15 18 21 24] Shape: (4,)\n"
     ]
    }
   ],
   "source": [
    "# сумма по столбцам\n",
    "col_sum = M.sum(axis=0) # вдоль столбцов\n",
    "print(\"суммы по столбцам:\", col_sum, \"Shape:\", col_sum.shape)"
   ]
  },
  {
   "cell_type": "code",
   "execution_count": 55,
   "id": "0a16fbab-36ac-45dd-bc4f-6e30a1ed6f80",
   "metadata": {},
   "outputs": [
    {
     "name": "stdout",
     "output_type": "stream",
     "text": [
      "M: [[ 1  2  3  4]\n",
      " [ 5  6  7  8]\n",
      " [ 9 10 11 12]]\n",
      "M.shape: (3, 4)\n",
      "Среднее значение всех элементов: 6.5\n"
     ]
    }
   ],
   "source": [
    "M = np.arange(1,13).reshape(3, 4)\n",
    "print(\"M:\", M)\n",
    "print(\"M.shape:\", M.shape)\n",
    "\n",
    "# среднее всех элементов\n",
    "mean_total = M.mean()\n",
    "print(\"Среднее значение всех элементов:\", mean_total)"
   ]
  },
  {
   "cell_type": "code",
   "execution_count": 56,
   "id": "47f936cd-1d1d-48ca-b3cb-9c6ebcfdb643",
   "metadata": {},
   "outputs": [
    {
     "name": "stdout",
     "output_type": "stream",
     "text": [
      "Среднее по строкам: [ 2.5  6.5 10.5] Shape: (3,)\n",
      "Среднее по столбцам: [5. 6. 7. 8.] Shape: (4,)\n"
     ]
    }
   ],
   "source": [
    "mean_rows = M.mean(axis=1)\n",
    "print(\"Среднее по строкам:\", mean_rows, \"Shape:\", mean_rows.shape)\n",
    "\n",
    "mean_cols = M.mean(axis=0)\n",
    "\n",
    "print(\"Среднее по столбцам:\", mean_cols, \"Shape:\", mean_cols.shape)"
   ]
  },
  {
   "cell_type": "code",
   "execution_count": null,
   "id": "bb2e2f94-d0e8-4b94-8377-38b0e1ed4390",
   "metadata": {},
   "outputs": [],
   "source": []
  }
 ],
 "metadata": {
  "kernelspec": {
   "display_name": "Python 3 (ipykernel)",
   "language": "python",
   "name": "python3"
  },
  "language_info": {
   "codemirror_mode": {
    "name": "ipython",
    "version": 3
   },
   "file_extension": ".py",
   "mimetype": "text/x-python",
   "name": "python",
   "nbconvert_exporter": "python",
   "pygments_lexer": "ipython3",
   "version": "3.11.6"
  }
 },
 "nbformat": 4,
 "nbformat_minor": 5
}
