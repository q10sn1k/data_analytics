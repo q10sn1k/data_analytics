{
 "cells": [
  {
   "cell_type": "code",
   "execution_count": 1,
   "id": "68c2eb41-5dae-4e50-9d3f-82fc875eb932",
   "metadata": {},
   "outputs": [],
   "source": [
    "# Импортируйте библиотеку nympy\n"
   ]
  },
  {
   "cell_type": "code",
   "execution_count": 2,
   "id": "6a8e0403-f48f-4c14-ae07-304d26df908e",
   "metadata": {},
   "outputs": [],
   "source": [
    "# Создайте массив-скаляр (0D) со значением 5 и выведите его shape, ndim, dtype и nbytes.\n",
    "# используйте np.array\n"
   ]
  },
  {
   "cell_type": "code",
   "execution_count": 3,
   "id": "50c883f3-597b-4388-a92d-6fb72fed243a",
   "metadata": {},
   "outputs": [],
   "source": [
    "# Создайте одномерный нулевой вектор длиной 10 и выведите shape, ndim, dtype, nbytes.\n",
    "# используйте np.zeros(10)\n"
   ]
  },
  {
   "cell_type": "code",
   "execution_count": 4,
   "id": "e1934f54-df37-4f70-a440-a804622b12c2",
   "metadata": {},
   "outputs": [],
   "source": [
    "# Создайте вектор со значениями от 10 до 49 включительно и выведите shape, ndim, dtype, size.\n",
    "# используйте np.arange(10, 50)\n"
   ]
  },
  {
   "cell_type": "code",
   "execution_count": 5,
   "id": "a06e2ebb-67ed-4d9d-ac67-2bc66daaabe2",
   "metadata": {},
   "outputs": [],
   "source": [
    "# Инвертируйте порядок элементов вектора из части 3 (первый элемент становится последним).\n",
    "# используйте срез [::-1]\n"
   ]
  },
  {
   "cell_type": "code",
   "execution_count": 6,
   "id": "93c38105-b74c-40e2-8d46-add9cdf9238f",
   "metadata": {},
   "outputs": [],
   "source": [
    "# Создайте матрицу 3x3 со значениями от 0 до 8.\n",
    "# используйте np.arange(...).reshape(...)\n"
   ]
  },
  {
   "cell_type": "code",
   "execution_count": 7,
   "id": "c5d2f1e1-9a7d-429d-97f2-c784d7a1da28",
   "metadata": {},
   "outputs": [],
   "source": [
    "# Найдите индексы ненулевых элементов в массиве [1, 2, 0, 0, 4, 0].\n",
    "# используйте np.nonzero(...)\n"
   ]
  },
  {
   "cell_type": "code",
   "execution_count": 8,
   "id": "9f27b9c2-ed27-4709-a4bf-e661fb157874",
   "metadata": {},
   "outputs": [],
   "source": [
    "# Создайте массив 3x3x3 со случайными значениями и выведите shape, ndim, size.\n",
    "# используйте np.random.rand(3, 3, 3)\n"
   ]
  },
  {
   "cell_type": "code",
   "execution_count": 9,
   "id": "db090dfe-c315-49e2-bed3-0337a6ef9380",
   "metadata": {},
   "outputs": [],
   "source": [
    "# Создайте массив 10x10 со случайными значениями и найдите в нём min и max.\n",
    "# используйте np.random.rand(10, 10), np.min(...), np.max(...)\n"
   ]
  },
  {
   "cell_type": "code",
   "execution_count": 11,
   "id": "a152e95e-66d1-446c-af18-41adb539980e",
   "metadata": {},
   "outputs": [],
   "source": [
    "# Создайте случайный вектор размера 30 и найдите его среднее значение.\n",
    "# используйте np.random.rand(...) и np.mean(...)\n"
   ]
  },
  {
   "cell_type": "code",
   "execution_count": 12,
   "id": "588b409e-4b64-4e73-9151-792ec1ef9a1f",
   "metadata": {},
   "outputs": [],
   "source": [
    "# Создайте массив 3x3 с единицами по границе и нулями внутри.\n",
    "# используйте np.ones(...) и срез a[1:-1, 1:-1] = 0\n"
   ]
  },
  {
   "cell_type": "code",
   "execution_count": 13,
   "id": "c79c59ec-496a-47a3-8951-71ebfc60b1b0",
   "metadata": {},
   "outputs": [],
   "source": [
    "# Для массива формы (6, 7, 8) найдите индекс (x, y, z) 100-го элемента (нумерация с 0).\n",
    "# используйте np.unravel_index(99, (6, 7, 8))\n"
   ]
  },
  {
   "cell_type": "code",
   "execution_count": 14,
   "id": "2eaef459-af71-4ced-a1c6-b2888aa7065e",
   "metadata": {},
   "outputs": [],
   "source": [
    "# Перемножьте матрицу A (5x3) на матрицу B (3x2), выведите форму результата и сам результат.\n",
    "# Подсказка: используйте оператор @ или np.dot(A, B)\n"
   ]
  },
  {
   "cell_type": "code",
   "execution_count": null,
   "id": "38e5dd4c-9f9e-495a-88f9-95515c0c7f41",
   "metadata": {},
   "outputs": [],
   "source": []
  }
 ],
 "metadata": {
  "kernelspec": {
   "display_name": "Python 3 (ipykernel)",
   "language": "python",
   "name": "python3"
  },
  "language_info": {
   "codemirror_mode": {
    "name": "ipython",
    "version": 3
   },
   "file_extension": ".py",
   "mimetype": "text/x-python",
   "name": "python",
   "nbconvert_exporter": "python",
   "pygments_lexer": "ipython3",
   "version": "3.11.6"
  }
 },
 "nbformat": 4,
 "nbformat_minor": 5
}
