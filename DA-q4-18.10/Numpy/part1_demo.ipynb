{
 "cells": [
  {
   "cell_type": "code",
   "execution_count": null,
   "id": "3c9a9f5d-56fe-4175-89e9-f56f08e194fe",
   "metadata": {},
   "outputs": [],
   "source": []
  },
  {
   "cell_type": "code",
   "execution_count": 1,
   "id": "5653a42d-27a1-4f9b-a56f-ad010813bb7b",
   "metadata": {},
   "outputs": [],
   "source": [
    "import numpy as np"
   ]
  },
  {
   "cell_type": "code",
   "execution_count": 2,
   "id": "dc56f0e5-48a2-4074-92f9-ceb4c65ec0c6",
   "metadata": {},
   "outputs": [
    {
     "name": "stdout",
     "output_type": "stream",
     "text": [
      "Скаляр S: 5\n"
     ]
    }
   ],
   "source": [
    "# массив-скаляр\n",
    "s = np.array(5)\n",
    "print(\"Скаляр S:\", s)"
   ]
  },
  {
   "cell_type": "code",
   "execution_count": 4,
   "id": "43e13ee8-f4a8-4a07-b611-58115996b83f",
   "metadata": {},
   "outputs": [
    {
     "name": "stdout",
     "output_type": "stream",
     "text": [
      "shape: () | ndim: 0 |dtype: int64 nbytes: 8\n"
     ]
    }
   ],
   "source": [
    "print(\"shape:\", s.shape, \"| ndim:\", s.ndim, \"|dtype:\", s.dtype, \"nbytes:\", s.nbytes)"
   ]
  },
  {
   "cell_type": "code",
   "execution_count": 6,
   "id": "7133045c-8859-43f8-ac5e-f86245115603",
   "metadata": {},
   "outputs": [
    {
     "name": "stdout",
     "output_type": "stream",
     "text": [
      "Вектор а =  [0. 0. 0. 0. 0. 0. 0. 0. 0. 0.]\n"
     ]
    }
   ],
   "source": [
    "a = np.zeros(10)\n",
    "print(\"Вектор а = \", a)"
   ]
  },
  {
   "cell_type": "code",
   "execution_count": 7,
   "id": "bf837a09-03d4-4c46-8ba2-0bd52308c54c",
   "metadata": {},
   "outputs": [
    {
     "name": "stdout",
     "output_type": "stream",
     "text": [
      "shape: (10,) | ndim: 1 |dtype: float64 nbytes: 80\n"
     ]
    }
   ],
   "source": [
    "print(\"shape:\", a.shape, \"| ndim:\", a.ndim, \"|dtype:\", a.dtype, \"nbytes:\", a.nbytes)"
   ]
  },
  {
   "cell_type": "code",
   "execution_count": 8,
   "id": "3a3413da-d4b1-4789-9b71-aa499c89f65c",
   "metadata": {},
   "outputs": [
    {
     "name": "stdout",
     "output_type": "stream",
     "text": [
      "Вектор а= [10 11 12 13 14 15 16 17 18 19 20 21 22 23 24 25 26 27 28 29 30 31 32 33\n",
      " 34 35 36 37 38 39 40 41 42 43 44 45 46 47 48 49]\n"
     ]
    }
   ],
   "source": [
    "a = np.arange(10, 50) # вектор со значениями от 10 до 49\n",
    "print(\"Вектор а=\", a)"
   ]
  },
  {
   "cell_type": "code",
   "execution_count": 9,
   "id": "d48b214e-f437-4a5f-92c4-f703a013758d",
   "metadata": {},
   "outputs": [
    {
     "name": "stdout",
     "output_type": "stream",
     "text": [
      "shape: (40,) | ndim: 1 |dtype: int64 nbytes: 320 | size: 40\n"
     ]
    }
   ],
   "source": [
    "print(\"shape:\", a.shape, \"| ndim:\", a.ndim, \"|dtype:\", a.dtype, \"nbytes:\", a.nbytes, \"| size:\", a.size)"
   ]
  },
  {
   "cell_type": "code",
   "execution_count": 13,
   "id": "536a1b99-6d0e-459e-bd96-9c57d72e2cf4",
   "metadata": {},
   "outputs": [
    {
     "name": "stdout",
     "output_type": "stream",
     "text": [
      "Matrix (3x3) a: [[0 1 2]\n",
      " [3 4 5]\n",
      " [6 7 8]]\n"
     ]
    }
   ],
   "source": [
    "a = np.arange(9).reshape(3, 3)\n",
    "print(\"Matrix (3x3) a:\", a)"
   ]
  },
  {
   "cell_type": "code",
   "execution_count": 14,
   "id": "00a8ff82-ba98-4401-97a0-8e4a07ba1a87",
   "metadata": {},
   "outputs": [
    {
     "name": "stdout",
     "output_type": "stream",
     "text": [
      "shape: (3, 3) | ndim: 2 |dtype: int64 nbytes: 72 | size: 9\n"
     ]
    }
   ],
   "source": [
    "print(\"shape:\", a.shape, \"| ndim:\", a.ndim, \"|dtype:\", a.dtype, \"nbytes:\", a.nbytes, \"| size:\", a.size)"
   ]
  },
  {
   "cell_type": "code",
   "execution_count": 15,
   "id": "087cb42a-4787-4469-b595-6fa22bc3e3a7",
   "metadata": {},
   "outputs": [
    {
     "name": "stdout",
     "output_type": "stream",
     "text": [
      "Индексы ненулевых элементов: (array([0, 1, 4]),)\n"
     ]
    }
   ],
   "source": [
    "a = np.array([1, 2, 0, 0, 4, 0])\n",
    "\n",
    "idx = np.nonzero(a)\n",
    "print(\"Индексы ненулевых элементов:\", idx)"
   ]
  },
  {
   "cell_type": "code",
   "execution_count": 16,
   "id": "2406dfc3-3035-4e43-8c7b-446cbe9d0638",
   "metadata": {},
   "outputs": [
    {
     "name": "stdout",
     "output_type": "stream",
     "text": [
      "массив а: [[[0.35749842 0.11471458 0.86865795]\n",
      "  [0.38904542 0.23255762 0.89916018]\n",
      "  [0.99490094 0.2939919  0.99834877]]\n",
      "\n",
      " [[0.70066648 0.65679104 0.39709933]\n",
      "  [0.42161791 0.42879296 0.65135776]\n",
      "  [0.52896433 0.52595775 0.01941636]]\n",
      "\n",
      " [[0.16828655 0.34359156 0.67370938]\n",
      "  [0.64739561 0.34299791 0.11501529]\n",
      "  [0.1663025  0.3118758  0.79736726]]]\n"
     ]
    }
   ],
   "source": [
    "a = np.random.rand(3, 3, 3)\n",
    "\n",
    "print(\"массив а:\", a)"
   ]
  },
  {
   "cell_type": "code",
   "execution_count": 17,
   "id": "45a30b28-916d-4d5e-b56c-351773fce03d",
   "metadata": {},
   "outputs": [
    {
     "name": "stdout",
     "output_type": "stream",
     "text": [
      "shape: (3, 3, 3) | ndim: 3 |dtype: float64 nbytes: 216 | size: 27\n"
     ]
    }
   ],
   "source": [
    "print(\"shape:\", a.shape, \"| ndim:\", a.ndim, \"|dtype:\", a.dtype, \"nbytes:\", a.nbytes, \"| size:\", a.size)"
   ]
  },
  {
   "cell_type": "code",
   "execution_count": 19,
   "id": "f067e422-1116-4fe4-8d7d-a6be327cbf60",
   "metadata": {},
   "outputs": [
    {
     "name": "stdout",
     "output_type": "stream",
     "text": [
      "Matrix a (10x10) [[5.88664142e-01 9.88024218e-01 9.98296738e-01 8.36159366e-01\n",
      "  8.64479901e-01 2.07278783e-01 2.56084132e-01 6.25970622e-01\n",
      "  9.08218059e-01 6.00438564e-01]\n",
      " [5.82346151e-01 4.58890138e-01 7.83301145e-01 2.98625877e-01\n",
      "  1.05453165e-01 8.35744323e-01 3.29813707e-01 2.76989968e-01\n",
      "  2.44825092e-01 7.48148730e-01]\n",
      " [9.51020760e-01 4.17757718e-01 8.99679483e-01 8.96761485e-01\n",
      "  8.59539043e-01 2.53793477e-01 2.55339729e-01 1.19849655e-01\n",
      "  6.92778846e-01 9.22165196e-03]\n",
      " [9.52811591e-02 2.01620093e-01 3.23926795e-01 4.52381319e-01\n",
      "  3.53775126e-01 4.78589768e-01 3.51424821e-02 5.45534970e-01\n",
      "  3.52330506e-02 4.80458788e-01]\n",
      " [5.24381094e-02 7.08809223e-01 8.09319414e-01 9.33981132e-01\n",
      "  1.01372181e-01 9.23194781e-01 1.17156951e-01 7.30229341e-02\n",
      "  3.64882245e-01 7.62189559e-01]\n",
      " [9.41672031e-01 8.99539663e-01 3.87124185e-01 6.32119489e-01\n",
      "  2.06408217e-01 3.10233174e-01 3.53236770e-01 5.23811060e-01\n",
      "  4.05074065e-01 5.72142723e-01]\n",
      " [9.36997948e-01 7.05809181e-01 9.31495052e-01 8.87331592e-01\n",
      "  2.80371059e-01 8.65163598e-01 3.21268260e-01 5.16831597e-01\n",
      "  3.57431514e-04 6.56520726e-01]\n",
      " [4.24388563e-03 2.03912767e-01 8.79333479e-01 4.17049193e-02\n",
      "  5.38589241e-01 6.54792858e-01 6.46292449e-01 5.92879285e-01\n",
      "  4.58473203e-01 3.81065158e-02]\n",
      " [5.91936231e-01 8.05239273e-01 9.60994775e-01 4.64561231e-01\n",
      "  6.29808010e-01 8.44207339e-01 1.06548030e-01 2.67200637e-01\n",
      "  6.26310703e-01 2.03875318e-01]\n",
      " [2.03170848e-01 2.49756518e-01 4.98557851e-01 9.50330945e-01\n",
      "  2.06529492e-01 6.86416966e-01 1.44071857e-01 4.40090178e-01\n",
      "  9.93793279e-01 8.50906235e-01]]\n",
      "shape: (10, 10) | ndim: 2\n"
     ]
    }
   ],
   "source": [
    "a = np.random.rand(10, 10)\n",
    "print(\"Matrix a (10x10)\", a)\n",
    "print(\"shape:\", a.shape, \"| ndim:\", a.ndim)"
   ]
  },
  {
   "cell_type": "code",
   "execution_count": 20,
   "id": "1f1c2d69-00b1-4887-b92a-5dc77771ca18",
   "metadata": {},
   "outputs": [
    {
     "name": "stdout",
     "output_type": "stream",
     "text": [
      "Минимальное значение: 0.00035743151424394437\n"
     ]
    }
   ],
   "source": [
    "print(\"Минимальное значение:\", np.min(a))"
   ]
  },
  {
   "cell_type": "code",
   "execution_count": 21,
   "id": "0f440da1-97b7-4221-8884-5511627f4ef9",
   "metadata": {},
   "outputs": [
    {
     "name": "stdout",
     "output_type": "stream",
     "text": [
      "Максимальное значение: 0.9982967383434249\n"
     ]
    }
   ],
   "source": [
    "print(\"Максимальное значение:\", np.max(a))"
   ]
  },
  {
   "cell_type": "code",
   "execution_count": 22,
   "id": "6c8d679b-96a3-4df1-a794-b5979ec063e6",
   "metadata": {},
   "outputs": [
    {
     "name": "stdout",
     "output_type": "stream",
     "text": [
      "Max val: 0.9982967383434249\n"
     ]
    }
   ],
   "source": [
    "max = np.max(a)\n",
    "print(\"Max val:\", max)"
   ]
  },
  {
   "cell_type": "code",
   "execution_count": 23,
   "id": "11a9aece-0b66-4832-8912-6bb7ea9f1eea",
   "metadata": {},
   "outputs": [
    {
     "name": "stdout",
     "output_type": "stream",
     "text": [
      "Вектор а: [0.56642512 0.20450933 0.08704827 0.93610981 0.82124412 0.96599013\n",
      " 0.94476206 0.21273188 0.80546982 0.0813641  0.66580152 0.94865479\n",
      " 0.70195794 0.66021788 0.20770159 0.57371248 0.72335971 0.25850424\n",
      " 0.35594257 0.53384616 0.52008407 0.64251369 0.97751665 0.55073306\n",
      " 0.97160306 0.92080459 0.18926344 0.91134538 0.49523896 0.053068  ]\n"
     ]
    }
   ],
   "source": [
    "a = np.random.rand(30)\n",
    "print(\"Вектор а:\", a)"
   ]
  },
  {
   "cell_type": "code",
   "execution_count": 24,
   "id": "1752f2e3-7f76-4fd6-97ca-d7f60f11a24d",
   "metadata": {},
   "outputs": [
    {
     "name": "stdout",
     "output_type": "stream",
     "text": [
      "Среднее значение: 0.582917480377042\n"
     ]
    }
   ],
   "source": [
    "mean = np.mean(a)\n",
    "print(\"Среднее значение:\", mean)"
   ]
  },
  {
   "cell_type": "code",
   "execution_count": 25,
   "id": "c3a67396-d53e-4c03-b383-96a31711eada",
   "metadata": {},
   "outputs": [
    {
     "name": "stdout",
     "output_type": "stream",
     "text": [
      "[[1. 1. 1.]\n",
      " [1. 1. 1.]\n",
      " [1. 1. 1.]]\n"
     ]
    }
   ],
   "source": [
    "a = np.ones((3, 3))\n",
    "print(a)"
   ]
  },
  {
   "cell_type": "code",
   "execution_count": 26,
   "id": "f2460acf-05ae-4b9b-a84e-ec234709e151",
   "metadata": {},
   "outputs": [
    {
     "name": "stdout",
     "output_type": "stream",
     "text": [
      "Массив 3х3 с единицами по границе и нулями внутри: [[1. 1. 1.]\n",
      " [1. 0. 1.]\n",
      " [1. 1. 1.]]\n"
     ]
    }
   ],
   "source": [
    "a[1:-1, 1:-1] = 0\n",
    "print(\"Массив 3х3 с единицами по границе и нулями внутри:\", a)"
   ]
  },
  {
   "cell_type": "code",
   "execution_count": 27,
   "id": "60599da6-ce42-4a67-a4cf-df80a3cc38e6",
   "metadata": {},
   "outputs": [
    {
     "name": "stdout",
     "output_type": "stream",
     "text": [
      "[[1. 1. 1.]\n",
      " [1. 0. 1.]\n",
      " [1. 1. 1.]]\n"
     ]
    }
   ],
   "source": [
    "print(a)"
   ]
  },
  {
   "cell_type": "code",
   "execution_count": 28,
   "id": "a34ace92-45b3-4cad-97ac-989bc095d592",
   "metadata": {},
   "outputs": [
    {
     "name": "stdout",
     "output_type": "stream",
     "text": [
      "Индекс 100-го элемента: (1, 5, 3)\n"
     ]
    }
   ],
   "source": [
    "idx = np.unravel_index(99, (6, 7, 8))\n",
    "print(\"Индекс 100-го элемента:\", idx)"
   ]
  },
  {
   "cell_type": "code",
   "execution_count": 30,
   "id": "7f5a9d4e-1c04-41de-8a17-1ad7c8ce6f2c",
   "metadata": {},
   "outputs": [
    {
     "name": "stdout",
     "output_type": "stream",
     "text": [
      "[[[1. 1. 1. 1. 1. 1. 1. 1.]\n",
      "  [1. 1. 1. 1. 1. 1. 1. 1.]\n",
      "  [1. 1. 1. 1. 1. 1. 1. 1.]\n",
      "  [1. 1. 1. 1. 1. 1. 1. 1.]\n",
      "  [1. 1. 1. 1. 1. 1. 1. 1.]\n",
      "  [1. 1. 1. 1. 1. 1. 1. 1.]\n",
      "  [1. 1. 1. 1. 1. 1. 1. 1.]]\n",
      "\n",
      " [[1. 1. 1. 1. 1. 1. 1. 1.]\n",
      "  [1. 1. 1. 1. 1. 1. 1. 1.]\n",
      "  [1. 1. 1. 1. 1. 1. 1. 1.]\n",
      "  [1. 1. 1. 1. 1. 1. 1. 1.]\n",
      "  [1. 1. 1. 1. 1. 1. 1. 1.]\n",
      "  [1. 1. 1. 1. 1. 1. 1. 1.]\n",
      "  [1. 1. 1. 1. 1. 1. 1. 1.]]\n",
      "\n",
      " [[1. 1. 1. 1. 1. 1. 1. 1.]\n",
      "  [1. 1. 1. 1. 1. 1. 1. 1.]\n",
      "  [1. 1. 1. 1. 1. 1. 1. 1.]\n",
      "  [1. 1. 1. 1. 1. 1. 1. 1.]\n",
      "  [1. 1. 1. 1. 1. 1. 1. 1.]\n",
      "  [1. 1. 1. 1. 1. 1. 1. 1.]\n",
      "  [1. 1. 1. 1. 1. 1. 1. 1.]]\n",
      "\n",
      " [[1. 1. 1. 1. 1. 1. 1. 1.]\n",
      "  [1. 1. 1. 1. 1. 1. 1. 1.]\n",
      "  [1. 1. 1. 1. 1. 1. 1. 1.]\n",
      "  [1. 1. 1. 1. 1. 1. 1. 1.]\n",
      "  [1. 1. 1. 1. 1. 1. 1. 1.]\n",
      "  [1. 1. 1. 1. 1. 1. 1. 1.]\n",
      "  [1. 1. 1. 1. 1. 1. 1. 1.]]\n",
      "\n",
      " [[1. 1. 1. 1. 1. 1. 1. 1.]\n",
      "  [1. 1. 1. 1. 1. 1. 1. 1.]\n",
      "  [1. 1. 1. 1. 1. 1. 1. 1.]\n",
      "  [1. 1. 1. 1. 1. 1. 1. 1.]\n",
      "  [1. 1. 1. 1. 1. 1. 1. 1.]\n",
      "  [1. 1. 1. 1. 1. 1. 1. 1.]\n",
      "  [1. 1. 1. 1. 1. 1. 1. 1.]]\n",
      "\n",
      " [[1. 1. 1. 1. 1. 1. 1. 1.]\n",
      "  [1. 1. 1. 1. 1. 1. 1. 1.]\n",
      "  [1. 1. 1. 1. 1. 1. 1. 1.]\n",
      "  [1. 1. 1. 1. 1. 1. 1. 1.]\n",
      "  [1. 1. 1. 1. 1. 1. 1. 1.]\n",
      "  [1. 1. 1. 1. 1. 1. 1. 1.]\n",
      "  [1. 1. 1. 1. 1. 1. 1. 1.]]]\n"
     ]
    }
   ],
   "source": [
    "a = np.ones((6, 7, 8))\n",
    "print(a)"
   ]
  },
  {
   "cell_type": "code",
   "execution_count": 32,
   "id": "3947df7a-6470-4569-aad5-05d661d65c75",
   "metadata": {},
   "outputs": [],
   "source": [
    "# Матрица А размером 5х3\n",
    "A = np.random.rand(5, 3)\n",
    "\n",
    "# Матрица B размером 3x2\n",
    "B = np.random.rand(3, 2)"
   ]
  },
  {
   "cell_type": "code",
   "execution_count": 33,
   "id": "a2db6b34-6336-44db-8118-bef503388cec",
   "metadata": {},
   "outputs": [
    {
     "name": "stdout",
     "output_type": "stream",
     "text": [
      "[[0.97281639 0.40427197 0.66513731]\n",
      " [0.69107373 0.86297863 0.38690652]\n",
      " [0.5385481  0.70881363 0.46745997]\n",
      " [0.01220584 0.34651802 0.09313017]\n",
      " [0.1589258  0.22988898 0.8430689 ]]\n"
     ]
    }
   ],
   "source": [
    "print(A)"
   ]
  },
  {
   "cell_type": "code",
   "execution_count": 34,
   "id": "6db0649e-e3d0-4d71-9ea3-17c123f10024",
   "metadata": {},
   "outputs": [
    {
     "name": "stdout",
     "output_type": "stream",
     "text": [
      "[[0.27663797 0.88545174]\n",
      " [0.19942781 0.87672842]\n",
      " [0.09969468 0.93922741]]\n"
     ]
    }
   ],
   "source": [
    "print(B)"
   ]
  },
  {
   "cell_type": "code",
   "execution_count": 35,
   "id": "fe8a8a8a-99ed-4a04-9404-61f8bb2b88c8",
   "metadata": {},
   "outputs": [
    {
     "name": "stdout",
     "output_type": "stream",
     "text": [
      "[[0.41605168 1.84053389]\n",
      " [0.4018517  1.73190354]\n",
      " [0.33694328 1.53734663]\n",
      " [0.08176651 0.40208029]\n",
      " [0.17386065 1.13410474]]\n"
     ]
    }
   ],
   "source": [
    "C = np.dot(A, B)\n",
    "print(C)"
   ]
  },
  {
   "cell_type": "code",
   "execution_count": 36,
   "id": "0a9c69a9-599c-4cba-8d39-f96301149d08",
   "metadata": {},
   "outputs": [
    {
     "name": "stdout",
     "output_type": "stream",
     "text": [
      "Матрица A shape: (5, 3)\n",
      "Матрица B shape: (3, 2)\n",
      "Результат C shape: (5, 2)\n",
      "Матрица C:\n",
      " [[0.41605168 1.84053389]\n",
      " [0.4018517  1.73190354]\n",
      " [0.33694328 1.53734663]\n",
      " [0.08176651 0.40208029]\n",
      " [0.17386065 1.13410474]]\n"
     ]
    }
   ],
   "source": [
    "print(\"Матрица A shape:\", A.shape)\n",
    "print(\"Матрица B shape:\", B.shape)\n",
    "print(\"Результат C shape:\", C.shape)\n",
    "print(\"Матрица C:\\n\", C)"
   ]
  },
  {
   "cell_type": "code",
   "execution_count": null,
   "id": "2e47c429-9e11-4755-a7cd-d8bba0c1526f",
   "metadata": {},
   "outputs": [],
   "source": []
  }
 ],
 "metadata": {
  "kernelspec": {
   "display_name": "Python 3 (ipykernel)",
   "language": "python",
   "name": "python3"
  },
  "language_info": {
   "codemirror_mode": {
    "name": "ipython",
    "version": 3
   },
   "file_extension": ".py",
   "mimetype": "text/x-python",
   "name": "python",
   "nbconvert_exporter": "python",
   "pygments_lexer": "ipython3",
   "version": "3.11.6"
  }
 },
 "nbformat": 4,
 "nbformat_minor": 5
}
