{
 "cells": [
  {
   "cell_type": "code",
   "execution_count": null,
   "id": "c572e70c-9123-4979-a307-ac5c17a222ae",
   "metadata": {},
   "outputs": [],
   "source": [
    "# (Матричное умножение) перемножьте матрицы A (2×3) и B (3×2) и выведите матрицу C и её форму.\n",
    "# используйте матричное умножение A @ B (или np.dot(A, B)); проверьте C.shape.\n"
   ]
  },
  {
   "cell_type": "code",
   "execution_count": null,
   "id": "b54f21cb-34b8-47dc-8611-a1bea0d5aae9",
   "metadata": {},
   "outputs": [],
   "source": [
    "# транспонируйте матрицу M (2×3) и выведите T и T.shape.\n",
    "# используйте свойство .T; у (m, n) транспонирование даёт (n, m).\n"
   ]
  },
  {
   "cell_type": "code",
   "execution_count": null,
   "id": "bfcbab8d-d4fd-4d19-8cbf-d1000c98a467",
   "metadata": {},
   "outputs": [],
   "source": [
    "# выполните поэлементное умножение A и B одинаковой формы (2×3); выведите результат и форму.\n",
    "# оператор * в NumPy выполняет поэлементное умножение (не матричное).\n"
   ]
  },
  {
   "cell_type": "code",
   "execution_count": null,
   "id": "0a09a2de-0666-4c69-aadc-4a1fc23e418b",
   "metadata": {},
   "outputs": [],
   "source": [
    "# из вектора x выберите только положительные элементы; выведите отобранный массив и его форму.\n",
    "# постройте булеву маску (x > 0) и примените её как индекс: x[mask].\n"
   ]
  },
  {
   "cell_type": "code",
   "execution_count": null,
   "id": "d3c54dfb-701c-4d7d-bcc6-469adc44db2a",
   "metadata": {},
   "outputs": [],
   "source": [
    "# выберите из массива x только положительные чётные числа; выведите результат и его форму.\n",
    "# комбинируйте условия скобками: (x > 0) & (x % 2 == 0)."
   ]
  },
  {
   "cell_type": "code",
   "execution_count": null,
   "id": "319323da-2c6f-4d66-b8f9-72565cc28268",
   "metadata": {},
   "outputs": [],
   "source": [
    "# в матрице M замените все отрицательные значения на 0 (прямое изменение исходного массива); выведите M до и после.\n",
    "# маска (M < 0) и присваивание по маске: M[mask] = 0."
   ]
  },
  {
   "cell_type": "code",
   "execution_count": null,
   "id": "96728f40-51af-4669-b4a5-d963ddf74a02",
   "metadata": {},
   "outputs": [],
   "source": [
    "# примените векторное ветвление к x: если элемент >= 0, заменить на квадрат; иначе — на -1.\n",
    "# используйте np.where(cond, a, b), где cond = (x >= 0), a = x**2, b = -1.\n",
    "x = np.array([-3, -1, 0, 1, 2, 3])"
   ]
  },
  {
   "cell_type": "code",
   "execution_count": null,
   "id": "221f4aff-0832-4745-bdfa-173a89241c0c",
   "metadata": {},
   "outputs": [],
   "source": [
    "# для матрицы M (3×4) вычислите: (1) сумму всех элементов; (2) суммы по строкам (axis=1); (3) суммы по столбцам (axis=0).\n",
    "# метод .sum(...); проверьте формы результатов для axis=1 → (3,), axis=0 → (4,).\n"
   ]
  },
  {
   "cell_type": "code",
   "execution_count": null,
   "id": "454f9b4e-f242-467f-b785-05022a2b2a3e",
   "metadata": {},
   "outputs": [],
   "source": [
    "# для матрицы M (3×4) вычислите: (1) среднее по всем элементам; (2) средние по строкам; (3) средние по столбцам.\n",
    "# метод .mean(...); помните: axis=1 → вдоль строк (форма (3,)), axis=0 → вдоль столбцов (форма (4,)).\n"
   ]
  }
 ],
 "metadata": {
  "kernelspec": {
   "display_name": "Python 3 (ipykernel)",
   "language": "python",
   "name": "python3"
  },
  "language_info": {
   "codemirror_mode": {
    "name": "ipython",
    "version": 3
   },
   "file_extension": ".py",
   "mimetype": "text/x-python",
   "name": "python",
   "nbconvert_exporter": "python",
   "pygments_lexer": "ipython3",
   "version": "3.11.6"
  }
 },
 "nbformat": 4,
 "nbformat_minor": 5
}
