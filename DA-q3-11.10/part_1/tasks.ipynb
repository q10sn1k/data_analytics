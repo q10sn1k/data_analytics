{
 "cells": [
  {
   "cell_type": "code",
   "execution_count": 8,
   "id": "66c0787c-bfc7-40b4-9924-b13c012d9ad5",
   "metadata": {},
   "outputs": [],
   "source": [
    "# Постройте простой линейный график функции y = 3x - 2 для x ∈ {-5, -4, ..., 5}.\n",
    "# Добавьте заголовок, подписи осей, легенду и сетку. Отобразите график на экране.\n",
    "\n",
    "# Используйте: range(...) или np.arange(...); plt.plot(..., label=...);\n",
    "# plt.title(...); plt.xlabel(...); plt.ylabel(...); plt.legend(); plt.grid(True); plt.show().\n"
   ]
  },
  {
   "cell_type": "code",
   "execution_count": 9,
   "id": "573f6d2f-36f7-45a7-bf5d-30564ec7de54",
   "metadata": {},
   "outputs": [],
   "source": [
    "# Создайте фигуру с двумя областями построения (1×2). На первом Axes изобразите y = sin(x),\n",
    "# на втором - y = cos(x) для x на отрезке [0, 2π] (равномерная сетка точек).\n",
    "# Подпишите оси, добавьте легенды и сетку. На первом Axes аннотируйте максимум sin(x) стрелкой.\n",
    "# Добавьте общий заголовок фигуры и выровняйте макет.\n",
    "\n",
    "\n",
    "# Используйте: np.linspace(...); fig, axes = plt.subplots(1, 2, figsize=...);\n",
    "# axes[i].plot(..., label=...); axes[i].set_title(...); set_xlabel(...); set_ylabel(...);\n",
    "# axes[i].grid(True); axes[i].legend(); axes[0].annotate(..., arrowprops=dict(arrowstyle=\"->\"));\n",
    "# fig.suptitle(...); fig.tight_layout(); plt.show().\n",
    "\n"
   ]
  },
  {
   "cell_type": "code",
   "execution_count": 3,
   "id": "45f0526c-c2eb-4aeb-886f-fb716fa2c765",
   "metadata": {},
   "outputs": [],
   "source": [
    "# На одном графике постройте три функции на [0, 6]: y1 = 2x + 1, y2 = x**1.5, y3 = 0.5x**2.\n",
    "# Для каждой линии задайте свой цвет, стиль (сплошная/пунктир/точечная), маркеры и толщину.\n",
    "# Добавьте легенду, подписи осей, сетку и пределы осей так, чтобы все кривые были видны.\n",
    "\n",
    "\n",
    "# Используйте: x = np.linspace(...); plt.plot(..., color=..., linestyle=..., marker=..., linewidth=..., label=...);\n",
    "# plt.legend(); plt.xlabel(...); plt.ylabel(...); plt.grid(True); plt.xlim(...); plt.ylim(...); plt.show().\n",
    "\n"
   ]
  },
  {
   "cell_type": "code",
   "execution_count": 10,
   "id": "53691ad3-d458-4a9f-9a71-7931a3b2b66e",
   "metadata": {},
   "outputs": [],
   "source": [
    "# Сгенерируйте 60 наблюдений: X - равномерно на [0, 10], Y = 1.8X + шум (нормальный).\n",
    "# Задайте размер точек пропорционально |шум|, а цвет - по значению X (не одна константа).\n",
    "# Добавьте легенду (для подписи серии), цветовую шкалу, сетку, подписи осей и заголовок.\n",
    "\n",
    "\n",
    "# Используйте: np.random.seed(...); np.random.rand(...); np.random.randn(...);\n",
    "# plt.scatter(x, y, s=..., c=x, alpha=..., cmap=\"viridis\", label=...);\n",
    "# plt.colorbar(label=\"X\"); plt.legend(); plt.xlabel(...); plt.ylabel(...); plt.grid(True); plt.title(...); plt.show().\n",
    "\n"
   ]
  },
  {
   "cell_type": "code",
   "execution_count": 5,
   "id": "19208e25-4a72-4d55-8b3c-30306f12d3ea",
   "metadata": {},
   "outputs": [],
   "source": [
    "# Для 5 товаров постройте сгруппированную столбчатую диаграмму: «План» и «Факт» продаж рядом для каждой категории.\n",
    "# Настройте ширину столбцов, сдвиг относительно центральных позиций, подпишите категории по оси X,\n",
    "# добавьте легенду, сетку по Y и числовые подписи над столбцами.\n",
    "\n",
    "\n",
    "# Используйте: idx = np.arange(n_categories); width = 0.35;\n",
    "# plt.bar(idx - width/2, plan, width, label=\"План\"); plt.bar(idx + width/2, fact, width, label=\"Факт\");\n",
    "# plt.xticks(idx, categories); plt.legend(); plt.grid(axis=\"y\");\n",
    "# для подписей: ax = plt.gca(); containers = ax.containers; ax.bar_label(containers[i], fmt=\"%.0f\");\n",
    "# plt.title(...); plt.xlabel(...); plt.ylabel(...); plt.tight_layout(); plt.show().\n"
   ]
  },
  {
   "cell_type": "code",
   "execution_count": 11,
   "id": "13c1e3fd-a98c-4a87-9657-8bb6bed5b6ac",
   "metadata": {},
   "outputs": [],
   "source": [
    "# Сгенерируйте две выборки по 500 значений: A - N(0, 1), B - N(2, 1.5). На одном графике постройте две гистограммы,\n",
    "# наложив их с прозрачностью; используйте одинаковые границы и число интервалов. Добавьте легенду, сетку по Y\n",
    "# и подпишите оси. По желанию - показать плотность (density=True).\n",
    "\n",
    "\n",
    "# Используйте: np.random.seed(...); np.random.randn(...); a = ...; b = ...;\n",
    "# plt.hist(a, bins=..., alpha=..., label=\"A\", edgecolor=\"black\", density=...);\n",
    "# plt.hist(b, bins=..., alpha=..., label=\"B\", edgecolor=\"black\", density=...);\n",
    "# plt.legend(); plt.grid(axis=\"y\"); plt.xlabel(...); plt.ylabel(\"Частота\" или \"Плотность\"); plt.title(...); plt.show().\n"
   ]
  },
  {
   "cell_type": "code",
   "execution_count": 12,
   "id": "a72b324a-5717-4bdb-89b0-fd65a6646e80",
   "metadata": {},
   "outputs": [],
   "source": [
    "# Смоделируйте 4 группы данных разного масштаба/смещения (например, со средними: -1, 0, 2, 4 и разными σ).\n",
    "# Постройте коробчатые диаграммы для всех групп на одной оси, подпишите группы, включите сетку по Y\n",
    "# и отобразите средние значения на боксплотах.\n",
    "\n",
    "\n",
    "# Используйте: np.random.normal(loc=..., scale=..., size=...);\n",
    "# plt.boxplot([g1, g2, g3, g4], labels=[...], showmeans=True);\n",
    "# plt.grid(axis=\"y\"); plt.ylabel(...); plt.title(...); plt.show().\n"
   ]
  },
  {
   "cell_type": "code",
   "execution_count": null,
   "id": "6d91b71e-039a-41b8-a86f-ae03484cd1cc",
   "metadata": {},
   "outputs": [],
   "source": [
    "# Постройте набор долей рынка (5 брендов) (сумма ≈ 100%). Постройте секторную диаграмму с подписями категорий и процентов.\n",
    "# Выделите самый крупный сегмент с помощью explode, добавьте тень, начните диаграмму с угла 90°, обеспечьте\n",
    "# круговую форму и добавьте заголовок.\n",
    "\n",
    "\n",
    "# Используйте: plt.pie(values, labels=..., autopct=\"%.1f%%\", startangle=90, explode=..., shadow=True);\n",
    "# plt.axis(\"equal\"); plt.title(...); plt.show()."
   ]
  }
 ],
 "metadata": {
  "kernelspec": {
   "display_name": "Python 3 (ipykernel)",
   "language": "python",
   "name": "python3"
  },
  "language_info": {
   "codemirror_mode": {
    "name": "ipython",
    "version": 3
   },
   "file_extension": ".py",
   "mimetype": "text/x-python",
   "name": "python",
   "nbconvert_exporter": "python",
   "pygments_lexer": "ipython3",
   "version": "3.11.6"
  }
 },
 "nbformat": 4,
 "nbformat_minor": 5
}
