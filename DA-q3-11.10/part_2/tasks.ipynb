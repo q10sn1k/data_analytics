{
 "cells": [
  {
   "cell_type": "code",
   "execution_count": 1,
   "id": "24b3029b-4019-43ba-b1f8-e9ae5a352e01",
   "metadata": {},
   "outputs": [],
   "source": [
    "# Сделайте DataFrame с колонками:\n",
    "#   \"Цена\" — значения [99.9, 149.5, 199.0],\n",
    "#   \"Товар\" — строки с названиями,\n",
    "#   \"В наличии\" — логические значения.\n",
    "# Выведите сам DataFrame и тип данных каждой колонки.\n",
    "\n",
    "\n",
    "# используйте pd.DataFrame, df.dtypes, df['col'].dtype\n"
   ]
  },
  {
   "cell_type": "code",
   "execution_count": null,
   "id": "1306ef97-0e0b-473a-9cc5-7b998d10504f",
   "metadata": {},
   "outputs": [],
   "source": [
    "# Сделайте объект Series с данными температур [18, 20, 21, 19],\n",
    "# дайте ему имя \"Температура\".\n",
    "# Выведите Series, его индекс, значения, длину и тип данных.\n",
    "\n",
    "\n",
    "# используйте pd.Series, свойства .index, .values, .dtype, а также len()\n"
   ]
  },
  {
   "cell_type": "code",
   "execution_count": null,
   "id": "1cfeefc6-1c27-4894-8f8c-166175380d13",
   "metadata": {},
   "outputs": [],
   "source": [
    "# Сделайте DataFrame с колонкой \"City\" со строками [\"  moscow\", \"SPb  \", \"kaZAN \"].\n",
    "# Очистите данные: уберите пробелы по краям и приведите строки к виду \"С Заглавной буквы\".\n",
    "# Выведите исходный и очищенный столбец.\n",
    "\n",
    "\n",
    "# используйте строковые методы .str.strip() и .str.title()\n"
   ]
  },
  {
   "cell_type": "code",
   "execution_count": null,
   "id": "6c180cb8-70d8-4374-99aa-9e7a115d8c37",
   "metadata": {},
   "outputs": [],
   "source": [
    "# Сделайте DataFrame с колонкой \"Score\" со значениями [85, 90, 95].\n",
    "# 1) Преобразуйте значения в строки вида \"score_85\", \"score_90\", ...\n",
    "# 2) Из полученных строк извлеките обратно числа и приведите их к int в отдельной колонке.\n",
    "\n",
    "\n",
    "# используйте .astype(str) + конкатенацию, \n",
    "#            для извлечения — .str.extract(r'(\\d+)') или .str.replace() + .astype(int)\n"
   ]
  }
 ],
 "metadata": {
  "kernelspec": {
   "display_name": "Python 3 (ipykernel)",
   "language": "python",
   "name": "python3"
  },
  "language_info": {
   "codemirror_mode": {
    "name": "ipython",
    "version": 3
   },
   "file_extension": ".py",
   "mimetype": "text/x-python",
   "name": "python",
   "nbconvert_exporter": "python",
   "pygments_lexer": "ipython3",
   "version": "3.11.6"
  }
 },
 "nbformat": 4,
 "nbformat_minor": 5
}
