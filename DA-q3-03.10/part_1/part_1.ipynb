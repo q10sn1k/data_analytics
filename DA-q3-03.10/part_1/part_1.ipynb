{
 "cells": [
  {
   "cell_type": "code",
   "execution_count": 1,
   "id": "d95d535d-92c5-4ba7-8fd1-fdd3d689dadd",
   "metadata": {},
   "outputs": [],
   "source": [
    "import pandas as pd"
   ]
  },
  {
   "cell_type": "code",
   "execution_count": 3,
   "id": "bf4a07d3-af14-42e3-a197-5e1c6755a693",
   "metadata": {},
   "outputs": [
    {
     "name": "stdout",
     "output_type": "stream",
     "text": [
      "Таблица DataFrame:\n",
      "    Числа Строки  Логические\n",
      "0      1   Один        True\n",
      "1      2    Два       False\n",
      "2      3    Три        True\n"
     ]
    }
   ],
   "source": [
    "df = pd.DataFrame({\n",
    "    'Числа': [1, 2, 3],\n",
    "    'Строки': ['Один', 'Два', 'Три'],\n",
    "    'Логические': [True, False, True]\n",
    "})\n",
    "\n",
    "print(\"Таблица DataFrame:\\n\", df)"
   ]
  },
  {
   "cell_type": "code",
   "execution_count": 5,
   "id": "1e341496-ad11-49a8-9de7-152f29b67313",
   "metadata": {},
   "outputs": [
    {
     "name": "stdout",
     "output_type": "stream",
     "text": [
      "Строка 'Числа':\n",
      " 0    1\n",
      "1    2\n",
      "2    3\n",
      "Name: Числа, dtype: int64\n",
      "Тип столбца 'Числа':\n",
      " int64\n"
     ]
    }
   ],
   "source": [
    "print(\"Строка 'Числа':\\n\", df['Числа'])\n",
    "print(\"Тип столбца 'Числа':\\n\", df['Числа'].dtype)"
   ]
  },
  {
   "cell_type": "code",
   "execution_count": 6,
   "id": "660501d3-bb43-45c7-bd84-194cd040fe3f",
   "metadata": {},
   "outputs": [
    {
     "name": "stdout",
     "output_type": "stream",
     "text": [
      "Строка 'Строки':\n",
      " 0    Один\n",
      "1     Два\n",
      "2     Три\n",
      "Name: Строки, dtype: object\n",
      "Тип столбца 'Строки':\n",
      " object\n",
      "\n",
      "\n",
      "Строка 'Логические':\n",
      " 0     True\n",
      "1    False\n",
      "2     True\n",
      "Name: Логические, dtype: bool\n",
      "Тип столбца 'Логические':\n",
      " bool\n"
     ]
    }
   ],
   "source": [
    "print(\"Строка 'Строки':\\n\", df['Строки'])\n",
    "print(\"Тип столбца 'Строки':\\n\", df['Строки'].dtype)\n",
    "\n",
    "print(\"\\n\\nСтрока 'Логические':\\n\", df['Логические'])\n",
    "print(\"Тип столбца 'Логические':\\n\", df['Логические'].dtype)"
   ]
  },
  {
   "cell_type": "code",
   "execution_count": 7,
   "id": "7b525ffd-64fd-4c90-bf71-c92d55d67fc5",
   "metadata": {},
   "outputs": [
    {
     "name": "stdout",
     "output_type": "stream",
     "text": [
      "\n",
      "Типы данных всех столбцов: Числа          int64\n",
      "Строки        object\n",
      "Логические      bool\n",
      "dtype: object\n"
     ]
    }
   ],
   "source": [
    "print(\"\\nТипы данных всех столбцов:\", df.dtypes)"
   ]
  },
  {
   "cell_type": "code",
   "execution_count": 10,
   "id": "de873861-3ee7-4a1c-9033-f5583f0ae77d",
   "metadata": {},
   "outputs": [
    {
     "name": "stdout",
     "output_type": "stream",
     "text": [
      "Тип данных Series 'Числа':\n",
      " 0    10\n",
      "1    20\n",
      "2    30\n",
      "Name: Числа, dtype: int64\n"
     ]
    }
   ],
   "source": [
    "s_numbers = pd.Series([10, 20, 30], name=\"Числа\")\n",
    "print(\"Тип данных Series 'Числа':\\n\",s_numbers)"
   ]
  },
  {
   "cell_type": "code",
   "execution_count": 12,
   "id": "336a0bc2-808c-4228-aa9b-8d2e66d30cab",
   "metadata": {},
   "outputs": [
    {
     "name": "stdout",
     "output_type": "stream",
     "text": [
      "Тип данных Series 'Строки':\n",
      " 0    один\n",
      "1     два\n",
      "2     три\n",
      "Name: Строки, dtype: object\n",
      "\n",
      "\n",
      "Тип данных Series 'Логические значения (bool)':\n",
      " 0     True\n",
      "1    False\n",
      "2     True\n",
      "Name: Логические значения, dtype: bool\n"
     ]
    }
   ],
   "source": [
    "s_strings = pd.Series([\"один\", \"два\", \"три\"], name=\"Строки\")\n",
    "print(\"Тип данных Series 'Строки':\\n\",s_strings)\n",
    "\n",
    "s_bools = pd.Series([True, False, True], name=\"Логические значения\")\n",
    "print(\"\\n\\nТип данных Series 'Логические значения (bool)':\\n\",s_bools)"
   ]
  },
  {
   "cell_type": "code",
   "execution_count": 13,
   "id": "a36c26ef-3edb-4259-a985-f7ef30c827b0",
   "metadata": {},
   "outputs": [
    {
     "name": "stdout",
     "output_type": "stream",
     "text": [
      "DataFrame собранный из трех Series:\n",
      "    Числа Строки  Логические значения\n",
      "0     10   один                 True\n",
      "1     20    два                False\n",
      "2     30    три                 True\n",
      "\n",
      "\n",
      "Тип данных результирующей таблицы:\n",
      " Числа                   int64\n",
      "Строки                 object\n",
      "Логические значения      bool\n",
      "dtype: object\n"
     ]
    }
   ],
   "source": [
    "df = pd.DataFrame({\"Числа\": s_numbers, \"Строки\": s_strings, \"Логические значения\": s_bools})\n",
    "\n",
    "print(\"DataFrame собранный из трех Series:\\n\", df)\n",
    "print(\"\\n\\nТип данных результирующей таблицы:\\n\", df.dtypes)"
   ]
  },
  {
   "cell_type": "code",
   "execution_count": 14,
   "id": "a22d5a7c-849b-48bd-abc2-306ee984b7df",
   "metadata": {},
   "outputs": [
    {
     "name": "stdout",
     "output_type": "stream",
     "text": [
      "Исходная таблица (DataFrame):\n",
      "       Name\n",
      "0    alice\n",
      "1      BOB\n",
      "2  Charlie\n"
     ]
    }
   ],
   "source": [
    "df = pd.DataFrame({'Name': [\"alice\", \"BOB\", \"Charlie\"]})\n",
    "print(\"Исходная таблица (DataFrame):\\n\", df)"
   ]
  },
  {
   "cell_type": "code",
   "execution_count": 15,
   "id": "cd38e11e-6722-478f-9b32-3dcd6c150b73",
   "metadata": {},
   "outputs": [
    {
     "name": "stdout",
     "output_type": "stream",
     "text": [
      "Таблица после преобразования:\n",
      "       Name\n",
      "0    alice\n",
      "1      bob\n",
      "2  charlie\n"
     ]
    }
   ],
   "source": [
    "df['Name'] = df['Name'].str.lower()\n",
    "print(\"Таблица после преобразования:\\n\", df)"
   ]
  },
  {
   "cell_type": "code",
   "execution_count": 16,
   "id": "284313ff-600e-42d4-93d6-2447920d58ce",
   "metadata": {},
   "outputs": [
    {
     "name": "stdout",
     "output_type": "stream",
     "text": [
      "0      alice\n",
      "1        bob\n",
      "2    charlie\n",
      "Name: Name, dtype: object\n"
     ]
    }
   ],
   "source": [
    "print(df['Name'])"
   ]
  },
  {
   "cell_type": "code",
   "execution_count": 17,
   "id": "a41275c8-be00-4886-b137-b92b1ae3f4f8",
   "metadata": {},
   "outputs": [
    {
     "name": "stdout",
     "output_type": "stream",
     "text": [
      "object\n"
     ]
    }
   ],
   "source": [
    "print(df['Name'].dtype)"
   ]
  },
  {
   "cell_type": "code",
   "execution_count": 18,
   "id": "cf6e78a0-17d8-45ca-8694-84856162df60",
   "metadata": {},
   "outputs": [
    {
     "name": "stdout",
     "output_type": "stream",
     "text": [
      "Исходная таблица (DataFrame):\n",
      "    Age\n",
      "0   25\n",
      "1   30\n",
      "2   35\n"
     ]
    }
   ],
   "source": [
    "df = pd.DataFrame({'Age': [25, 30, 35]})\n",
    "print(\"Исходная таблица (DataFrame):\\n\", df)"
   ]
  },
  {
   "cell_type": "code",
   "execution_count": 21,
   "id": "4f052889-fe26-4371-82c9-dbd9dff9bc2e",
   "metadata": {},
   "outputs": [
    {
     "name": "stdout",
     "output_type": "stream",
     "text": [
      "int64\n"
     ]
    }
   ],
   "source": [
    "print(df['Age'].dtype)"
   ]
  },
  {
   "cell_type": "code",
   "execution_count": 22,
   "id": "36eab158-0838-4f55-9b84-3734817ab4a0",
   "metadata": {},
   "outputs": [
    {
     "name": "stdout",
     "output_type": "stream",
     "text": [
      "Таблица после преобразования:\n",
      "   Age\n",
      "0  25\n",
      "1  30\n",
      "2  35\n"
     ]
    }
   ],
   "source": [
    "df['Age'] = df['Age'].astype(str)\n",
    "print(\"Таблица после преобразования:\\n\", df)"
   ]
  },
  {
   "cell_type": "code",
   "execution_count": 23,
   "id": "226ad791-4158-4b8d-b3c0-f85bc647a9ca",
   "metadata": {},
   "outputs": [
    {
     "name": "stdout",
     "output_type": "stream",
     "text": [
      "object\n"
     ]
    }
   ],
   "source": [
    "print(df['Age'].dtype)"
   ]
  },
  {
   "cell_type": "code",
   "execution_count": 25,
   "id": "07cfc313-5a3a-4e53-ab60-1cb81e9bc908",
   "metadata": {},
   "outputs": [
    {
     "name": "stdout",
     "output_type": "stream",
     "text": [
      "Таблица после обратного преобразования:\n",
      "    Age\n",
      "0   25\n",
      "1   30\n",
      "2   35\n",
      "\n",
      "\n",
      "\n",
      "Тип данных колонки Age после обратного преобразования:\n",
      " int64\n"
     ]
    }
   ],
   "source": [
    "df['Age'] = df['Age'].astype(int)\n",
    "print(\"Таблица после обратного преобразования:\\n\", df)\n",
    "\n",
    "print(\"\\n\\n\\nТип данных колонки Age после обратного преобразования:\\n\", df['Age'].dtype)"
   ]
  },
  {
   "cell_type": "code",
   "execution_count": null,
   "id": "d3fd07c5-d53a-41f9-8162-f21e7bf66245",
   "metadata": {},
   "outputs": [],
   "source": []
  }
 ],
 "metadata": {
  "kernelspec": {
   "display_name": "Python 3 (ipykernel)",
   "language": "python",
   "name": "python3"
  },
  "language_info": {
   "codemirror_mode": {
    "name": "ipython",
    "version": 3
   },
   "file_extension": ".py",
   "mimetype": "text/x-python",
   "name": "python",
   "nbconvert_exporter": "python",
   "pygments_lexer": "ipython3",
   "version": "3.11.6"
  }
 },
 "nbformat": 4,
 "nbformat_minor": 5
}
