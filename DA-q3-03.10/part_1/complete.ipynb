{
 "cells": [
  {
   "cell_type": "code",
   "execution_count": 5,
   "id": "24b3029b-4019-43ba-b1f8-e9ae5a352e01",
   "metadata": {},
   "outputs": [
    {
     "name": "stdout",
     "output_type": "stream",
     "text": [
      "    Цена        Товар  В наличии\n",
      "0   99.9  Термокружка       True\n",
      "1  149.5     Наушники      False\n",
      "2  199.0    Пауэрбанк       True\n",
      "\n",
      "Типы столбцов:\n",
      " Цена         float64\n",
      "Товар         object\n",
      "В наличии       bool\n",
      "dtype: object\n",
      "\n",
      "Отдельные dtypes:\n",
      "dtype 'Цена': float64\n",
      "dtype 'Товар': object\n",
      "dtype 'В наличии': bool\n"
     ]
    }
   ],
   "source": [
    "# Сделайте DataFrame с колонками:\n",
    "#   \"Цена\" — значения [99.9, 149.5, 199.0],\n",
    "#   \"Товар\" — строки с названиями,\n",
    "#   \"В наличии\" — логические значения.\n",
    "# Выведите сам DataFrame и тип данных каждой колонки.\n",
    "\n",
    "\n",
    "# используйте pd.DataFrame, df.dtypes, df['col'].dtype\n",
    "\n",
    "import pandas as pd\n",
    "\n",
    "# Создаём DataFrame из словаря списков.\n",
    "#    Ключи словаря - имена столбцов, значения - данные для каждого столбца.\n",
    "df = pd.DataFrame({\n",
    "    \"Цена\": [99.9, 149.5, 199.0],\n",
    "    \"Товар\": [\"Термокружка\", \"Наушники\", \"Пауэрбанк\"],\n",
    "    \"В наличии\": [True, False, True],\n",
    "})\n",
    "\n",
    "# Выводим сам DataFrame.\n",
    "print(df)\n",
    "\n",
    "# Выводим типы данных всех столбцов сразу.\n",
    "print(\"\\nТипы столбцов:\\n\", df.dtypes)\n",
    "\n",
    "# можно обратиться к dtype конкретного столбца.\n",
    "print(\"\\nОтдельные dtypes:\")\n",
    "print(\"dtype 'Цена':\", df[\"Цена\"].dtype)          # ожидаемо float\n",
    "print(\"dtype 'Товар':\", df[\"Товар\"].dtype)        # обычно 'object' или 'string' в зависимости от версии pandas/настроек\n",
    "print(\"dtype 'В наличии':\", df[\"В наличии\"].dtype) # bool\n"
   ]
  },
  {
   "cell_type": "code",
   "execution_count": 6,
   "id": "1306ef97-0e0b-473a-9cc5-7b998d10504f",
   "metadata": {},
   "outputs": [
    {
     "name": "stdout",
     "output_type": "stream",
     "text": [
      "0    18\n",
      "1    20\n",
      "2    21\n",
      "3    19\n",
      "Name: Температура, dtype: int64\n",
      "\n",
      "Служебная информация:\n",
      "Индекс: RangeIndex(start=0, stop=4, step=1)\n",
      "Значения: [18 20 21 19]\n",
      "Длина: 4\n",
      "dtype: int64\n"
     ]
    }
   ],
   "source": [
    "# Сделайте объект Series с данными температур [18, 20, 21, 19],\n",
    "# дайте ему имя \"Температура\".\n",
    "# Выведите Series, его индекс, значения, длину и тип данных.\n",
    "\n",
    "\n",
    "# используйте pd.Series, свойства .index, .values, .dtype, а также len()\n",
    "# Создаём объект Series с именем.\n",
    "s = pd.Series([18, 20, 21, 19], name=\"Температура\")\n",
    "\n",
    "# Выводим Series.\n",
    "print(s)\n",
    "\n",
    "# Базовые свойства Series:\n",
    "print(\"\\nСлужебная информация:\")\n",
    "print(\"Индекс:\", s.index)     # RangeIndex(0, 4) по умолчанию\n",
    "print(\"Значения:\", s.values)  # значения \n",
    "print(\"Длина:\", len(s))       # Количество элементов\n",
    "print(\"dtype:\", s.dtype)      # Тип данных элементов\n"
   ]
  },
  {
   "cell_type": "code",
   "execution_count": 7,
   "id": "1cfeefc6-1c27-4894-8f8c-166175380d13",
   "metadata": {},
   "outputs": [
    {
     "name": "stdout",
     "output_type": "stream",
     "text": [
      "Исходный столбец:\n",
      "0      moscow\n",
      "1       SPb  \n",
      "2      kaZAN \n",
      "Name: City, dtype: object\n",
      "\n",
      "Очищенный столбец:\n",
      "0    Moscow\n",
      "1       Spb\n",
      "2     Kazan\n",
      "Name: City_clean, dtype: object\n"
     ]
    }
   ],
   "source": [
    "# Сделайте DataFrame с колонкой \"City\" со строками [\"  moscow\", \"SPb  \", \"kaZAN \"].\n",
    "# Очистите данные: уберите пробелы по краям и приведите строки к виду \"С Заглавной буквы\".\n",
    "# Выведите исходный и очищенный столбец.\n",
    "\n",
    "\n",
    "# используйте строковые методы .str.strip() и .str.title()\n",
    "# Исходные данные с лишними пробелами и разным регистром.\n",
    "df_cities = pd.DataFrame({\"City\": [\"  moscow\", \"SPb  \", \"kaZAN \"]})\n",
    "\n",
    "# Сохраняем исходный столбец для наглядности.\n",
    "print(\"Исходный столбец:\")\n",
    "print(df_cities[\"City\"])\n",
    "\n",
    "# Чистим: убираем пробелы по краям и приводим к «Заглавной букве» ().\n",
    "#    .str.strip()  - убирает пробелы слева и справа\n",
    "#    .str.title()  - 'moscow' - 'Moscow', 'SPb' - 'Spb', 'kaZAN' - 'Kazan'\n",
    "df_cities[\"City_clean\"] = df_cities[\"City\"].str.strip().str.title()\n",
    "\n",
    "print(\"\\nОчищенный столбец:\")\n",
    "print(df_cities[\"City_clean\"])"
   ]
  },
  {
   "cell_type": "code",
   "execution_count": 8,
   "id": "6c180cb8-70d8-4374-99aa-9e7a115d8c37",
   "metadata": {},
   "outputs": [
    {
     "name": "stdout",
     "output_type": "stream",
     "text": [
      "   Score Score_str  Score_back\n",
      "0     85  score_85          85\n",
      "1     90  score_90          90\n",
      "2     95  score_95          95\n",
      "\n",
      "Типы столбцов:\n",
      " Score          int64\n",
      "Score_str     object\n",
      "Score_back     int64\n",
      "dtype: object\n"
     ]
    }
   ],
   "source": [
    "# Сделайте DataFrame с колонкой \"Score\" со значениями [85, 90, 95].\n",
    "# 1) Преобразуйте значения в строки вида \"score_85\", \"score_90\", ...\n",
    "# 2) Из полученных строк извлеките обратно числа и приведите их к int в отдельной колонке.\n",
    "\n",
    "\n",
    "# используйте .astype(str) + конкатенацию, \n",
    "#            для извлечения — .str.extract(r'(\\d+)') или .str.replace() + .astype(int)\n",
    "# Исходный DataFrame со столбцом Score.\n",
    "df_score = pd.DataFrame({\"Score\": [85, 90, 95]})\n",
    "\n",
    "# Преобразуем числа к строкам формата \"score_85\", \"score_90\", ...\n",
    "#    .astype(str) — перевод в строку;\n",
    "#    конкатенация строк делается через оператор +.\n",
    "df_score[\"Score_str\"] = \"score_\" + df_score[\"Score\"].astype(str)\n",
    "\n",
    "# Извлекаем обратно числа из шаблона в отдельный столбец.\n",
    "#    .str.extract(r'(\\d+)') - извлекает первую группу цифр; результат — столбец типа object с текстом цифр\n",
    "#    .astype(int) - переводим извлечённые строковые цифры в целые числа.\n",
    "df_score[\"Score_back\"] = df_score[\"Score_str\"].str.extract(r\"(\\d+)\").astype(int)\n",
    "\n",
    "# Проверим результат.\n",
    "print(df_score)\n",
    "print(\"\\nТипы столбцов:\\n\", df_score.dtypes)"
   ]
  },
  {
   "cell_type": "code",
   "execution_count": null,
   "id": "028ec440-9efb-4c65-adbe-ff6de99d3a01",
   "metadata": {},
   "outputs": [],
   "source": []
  }
 ],
 "metadata": {
  "kernelspec": {
   "display_name": "Python 3 (ipykernel)",
   "language": "python",
   "name": "python3"
  },
  "language_info": {
   "codemirror_mode": {
    "name": "ipython",
    "version": 3
   },
   "file_extension": ".py",
   "mimetype": "text/x-python",
   "name": "python",
   "nbconvert_exporter": "python",
   "pygments_lexer": "ipython3",
   "version": "3.11.6"
  }
 },
 "nbformat": 4,
 "nbformat_minor": 5
}
