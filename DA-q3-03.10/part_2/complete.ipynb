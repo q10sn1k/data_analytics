{
 "cells": [
  {
   "cell_type": "code",
   "execution_count": 6,
   "id": "d38b42fa-d0ea-4975-a916-0b06f781654a",
   "metadata": {},
   "outputs": [
    {
     "name": "stdout",
     "output_type": "stream",
     "text": [
      "   Salary   Salary_str  Salary_back_1  Salary_back_2\n",
      "0  145000  145000 руб.         145000         145000\n",
      "1  152000  152000 руб.         152000         152000\n",
      "2  161000  161000 руб.         161000         161000\n",
      "\n",
      "Типы столбцов:\n",
      " Salary            int64\n",
      "Salary_str       object\n",
      "Salary_back_1     int64\n",
      "Salary_back_2     int64\n",
      "dtype: object\n"
     ]
    }
   ],
   "source": [
    "# сделайте DataFrame с колонкой \"Salary\" со значениями [145000, 152000, 161000].\n",
    "# 1) Преобразуйте их в строки вида \"45000 руб.\" и сохраните в новой колонке.\n",
    "# 2) Из полученных строк извлеките обратно числа и приведите их к типу int во второй новой колонке.\n",
    "\n",
    "\n",
    "# используйте .astype(str) + конкатенацию; для извлечения - .str.replace(\" руб.\", \"\", regex=False) + .astype(int)\n",
    "#            или .str.extract(r'(\\d+)') + .astype(int).\n",
    "\n",
    "\n",
    "import pandas as pd\n",
    "\n",
    "# Исходный DataFrame со столбцом Salary.\n",
    "df = pd.DataFrame({\"Salary\": [145000, 152000, 161000]})\n",
    "# print(df)\n",
    "# Преобразуем числа в строковый формат вида \"145000 руб.\".\n",
    "# Вариант A (прямолинейный): .astype(str) + конкатенация со строкой \" руб.\"\n",
    "df[\"Salary_str\"] = df[\"Salary\"].astype(str) + \" руб.\"\n",
    "# print(df)\n",
    "# Вариант B (регулярками): .astype(str).str.replace(...) здесь не нужен, просто пример альтернативы.\n",
    "# df[\"Salary_str\"] = df[\"Salary\"].astype(str).str.cat([\" руб.\"] * len(df))  # эквивалентный приём\n",
    "# print(df)\n",
    "# Извлекаем обратно числа в новый столбец и приводим к int.\n",
    "# Способ 1: убрать фиксированный суффикс \" руб.\" (без регекспов) и привести к int.\n",
    "df[\"Salary_back_1\"] = df[\"Salary_str\"].str.replace(\" руб.\", \"\", regex=False).astype(int)\n",
    "\n",
    "# print(df)\n",
    "\n",
    "#  Способ 2: через регулярное выражение - выцепить группу цифр.\n",
    "df[\"Salary_back_2\"] = df[\"Salary_str\"].str.extract(r\"(\\d+)\").astype(int)\n",
    "\n",
    "print(df)\n",
    "print(\"\\nТипы столбцов:\\n\", df.dtypes)\n"
   ]
  },
  {
   "cell_type": "code",
   "execution_count": 7,
   "id": "e2a35327-f65a-464b-9e2e-dfac918fb6a0",
   "metadata": {},
   "outputs": [
    {
     "name": "stdout",
     "output_type": "stream",
     "text": [
      "Все URL:\n",
      "                   URL\n",
      "0    https://site.org\n",
      "1  http://example.com\n",
      "2    https://docs.org\n",
      "3      https://gov.ru\n",
      "\n",
      "Только .org:\n",
      "                 URL\n",
      "0  https://site.org\n",
      "2  https://docs.org\n"
     ]
    }
   ],
   "source": [
    "# Постройте DataFrame с колонкой \"URL\" (например: [\"https://site.org\", \"http://example.com\", \"https://docs.org\"]).\n",
    "# Отфильтруйте строки, где адрес оканчивается на \".org\".\n",
    "\n",
    "\n",
    "# примените булеву маску через .str.contains(r'\\.org$', regex=True) и индексацию df[mask].\n",
    "\n",
    "df = pd.DataFrame({\n",
    "    \"URL\": [\"https://site.org\", \"http://example.com\", \"https://docs.org\", \"https://gov.ru\"]\n",
    "})\n",
    "\n",
    "# Булева маска: адрес оканчивается на \".org\" — используем привязку к концу строки через $.\n",
    "mask = df[\"URL\"].str.contains(r\"\\.org$\", regex=True)\n",
    "\n",
    "# Фильтрация строк по маске.\n",
    "df_org = df[mask].copy()\n",
    "\n",
    "print(\"Все URL:\\n\", df)\n",
    "print(\"\\nТолько .org:\\n\", df_org)\n"
   ]
  },
  {
   "cell_type": "code",
   "execution_count": 8,
   "id": "a58314e2-1bac-49d3-ab0f-8dfdb8201ed0",
   "metadata": {},
   "outputs": [
    {
     "name": "stdout",
     "output_type": "stream",
     "text": [
      "                         Record   user  score\n",
      "0  id=105; user=Alice; score=92  Alice     92\n",
      "1    id=106; user=Bob; score=88    Bob     88\n",
      "2  id=107; user=Carol; score=95  Carol     95\n",
      "\n",
      "Типы столбцов:\n",
      " Record    object\n",
      "user      object\n",
      "score      int64\n",
      "dtype: object\n"
     ]
    }
   ],
   "source": [
    "# Постройте DataFrame с колонкой \"Record\" со строками формата \"id=105; user=Alice; score=92\".\n",
    "# Извлеките user и score в отдельные колонки (user — строка, score — число).\n",
    "\n",
    "\n",
    "# используйте .str.extract(r'user=([^;]+);\\s*score=(\\d+)'), затем для score — .astype(int).\n",
    "\n",
    "\n",
    "df = pd.DataFrame({\n",
    "    \"Record\": [\n",
    "        \"id=105; user=Alice; score=92\",\n",
    "        \"id=106; user=Bob; score=88\",\n",
    "        \"id=107; user=Carol; score=95\"\n",
    "    ]\n",
    "})\n",
    "\n",
    "# Извлекаем user (строка) и score (число) через .str.extract с ИМЕНОВАННЫМИ группами.\n",
    "extracted = df[\"Record\"].str.extract(r\"user=(?P<user>[^;]+);\\s*score=(?P<score>\\d+)\")\n",
    "extracted[\"score\"] = extracted[\"score\"].astype(int)  # приведение к числу\n",
    "\n",
    "# Объединяем с исходным DataFrame при желании.\n",
    "df = pd.concat([df, extracted], axis=1)\n",
    "\n",
    "print(df)\n",
    "print(\"\\nТипы столбцов:\\n\", df.dtypes)"
   ]
  },
  {
   "cell_type": "code",
   "execution_count": 9,
   "id": "a698c1e7-6523-47b4-8343-ba0453ec2828",
   "metadata": {},
   "outputs": [
    {
     "name": "stdout",
     "output_type": "stream",
     "text": [
      "0     0\n",
      "1     5\n",
      "2    10\n",
      "3    15\n",
      "4    20\n",
      "5    25\n",
      "dtype: int64\n",
      "Индекс: RangeIndex(start=0, stop=6, step=1)\n"
     ]
    }
   ],
   "source": [
    "# создайте Series со значениями [5, 10, 15]. Добавьте в конец значения [20, 25],\n",
    "# а затем добавьте значение [0] в начало. Перенумеруйте индексы по порядку.\n",
    "\n",
    "\n",
    "# объединяйте серии через pd.concat([s, pd.Series([...])], ignore_index=True);\n",
    "#            для добавления в начало — pd.concat([pd.Series([0]), s], ignore_index=True).\n",
    "\n",
    "\n",
    "s = pd.Series([5, 10, 15])\n",
    "\n",
    "# Добавляем в конец значения [20, 25].\n",
    "s = pd.concat([s, pd.Series([20, 25])], ignore_index=True)\n",
    "\n",
    "# Добавляем в начало значение [0].\n",
    "s = pd.concat([pd.Series([0]), s], ignore_index=True)\n",
    "\n",
    "# Индекс уже перенумерован благодаря ignore_index=True.\n",
    "print(s)\n",
    "print(\"Индекс:\", s.index)"
   ]
  },
  {
   "cell_type": "code",
   "execution_count": 10,
   "id": "e29bd579-a1b9-4c03-97c1-5e753ae91800",
   "metadata": {},
   "outputs": [
    {
     "name": "stdout",
     "output_type": "stream",
     "text": [
      "    Name  Age\n",
      "0  Alice   25\n",
      "1    Bob   31\n",
      "2  Carol   29\n",
      "3   Dave   34\n",
      "4    Eve   22\n"
     ]
    }
   ],
   "source": [
    "# создайте DataFrame с колонками \"Name\", \"Age\" и тремя строками.\n",
    "# Добавьте сразу две новые строки с теми же колонками.\n",
    "\n",
    "\n",
    "# сформируйте отдельный DataFrame с новыми строками и объедините через pd.concat([...], ignore_index=True).\n",
    "\n",
    "df = pd.DataFrame({\n",
    "    \"Name\": [\"Alice\", \"Bob\", \"Carol\"],\n",
    "    \"Age\":  [25, 31, 29]\n",
    "})\n",
    "\n",
    "# Новый DataFrame с двумя строками тех же колонок.\n",
    "new_rows = pd.DataFrame({\n",
    "    \"Name\": [\"Dave\", \"Eve\"],\n",
    "    \"Age\":  [34, 22]\n",
    "})\n",
    "\n",
    "# Объединяем построчно, перенумеровываем индекс.\n",
    "df_all = pd.concat([df, new_rows], ignore_index=True)\n",
    "\n",
    "print(df_all)"
   ]
  },
  {
   "cell_type": "code",
   "execution_count": 11,
   "id": "d8c46a7d-029f-4321-8770-e646a076c555",
   "metadata": {},
   "outputs": [
    {
     "data": {
      "image/png": "[encoded data removed]",
      "text/plain": [
       "<Figure size 640x480 with 1 Axes>"
      ]
     },
     "metadata": {},
     "output_type": "display_data"
    }
   ],
   "source": [
    "# создайте Series с числовыми значениями (например, [2, 4, 1, 5, 3]) и постройте линейный график.\n",
    "# Добавьте заголовок и подписи осей.\n",
    "\n",
    "\n",
    "# используйте .plot(kind='line'), затем plt.title(...), plt.xlabel(...), plt.ylabel(...), plt.show().\n",
    "\n",
    "import matplotlib.pyplot as plt\n",
    "\n",
    "\n",
    "s = pd.Series([2, 4, 1, 5, 3], name=\"Value\")\n",
    "\n",
    "# Линейный график (kind='line' по умолчанию).\n",
    "ax = s.plot(kind=\"line\")\n",
    "\n",
    "# Подписи и оформление.\n",
    "plt.title(\"Линейный график Series\")\n",
    "plt.xlabel(\"Индекс\")\n",
    "plt.ylabel(\"Значение\")\n",
    "\n",
    "# Отобразить график.\n",
    "plt.show()"
   ]
  },
  {
   "cell_type": "code",
   "execution_count": 12,
   "id": "ab8531cf-4016-4891-9513-07a8cf27486b",
   "metadata": {},
   "outputs": [
    {
     "data": {
      "image/png": "[encoded data removed]",
      "text/plain": [
       "<Figure size 640x480 with 1 Axes>"
      ]
     },
     "metadata": {},
     "output_type": "display_data"
    }
   ],
   "source": [
    "# создайте DataFrame с тремя числовыми колонками одинаковой длины (например, sales_A, sales_B, sales_C).\n",
    "# Постройте \"стековую\" столбчатую диаграмму (stacked bar) для сравнения вкладов по строкам.\n",
    "\n",
    "# df.plot(kind='bar', stacked=True); дополнительно подпишите оси и легенду (plt.xlabel, plt.ylabel, plt.legend).\n",
    "df = pd.DataFrame({\n",
    "    \"sales_A\": [12, 15, 13, 17],\n",
    "    \"sales_B\": [ 5,  7,  6,  8],\n",
    "    \"sales_C\": [ 9, 10, 11, 12],\n",
    "}, index=[\"Q1\", \"Q2\", \"Q3\", \"Q4\"])  # например, кварталы\n",
    "\n",
    "# Стековая диаграмма: stacked=True суммирует \"вклад\" столбцов по строкам.\n",
    "ax = df.plot(kind=\"bar\", stacked=True)\n",
    "\n",
    "# Подписи и легенда.\n",
    "plt.title(\"Суммарные продажи по кварталам (stacked)\")\n",
    "plt.xlabel(\"Квартал\")\n",
    "plt.ylabel(\"Единицы продаж\")\n",
    "plt.legend(title=\"Линии продуктов\")\n",
    "\n",
    "plt.tight_layout()\n",
    "plt.show()"
   ]
  },
  {
   "cell_type": "code",
   "execution_count": 15,
   "id": "3e14e33a-fd29-4540-9364-116bb733729d",
   "metadata": {},
   "outputs": [
    {
     "name": "stdout",
     "output_type": "stream",
     "text": [
      "Ключи: ['name', 'price', 'qty', 'in_stock']\n",
      "Значения: ['Mug', 429, 12, True]\n",
      "Пары: [('name', 'Mug'), ('price', 429), ('qty', 12), ('in_stock', True)]\n"
     ]
    }
   ],
   "source": [
    "# создайте словарь \"product\" с полями: name, price, qty. Обновите price (новым значением),\n",
    "# добавьте булев ключ in_stock и выведите все ключи и значения словаря.\n",
    "\n",
    "\n",
    "# используйте присваивание product['key'] = value или product.update(...); для просмотра — .keys(), .values(), .items().\n",
    "\n",
    "# операции со словарём\n",
    "product = {\"name\": \"Mug\", \"price\": 399, \"qty\": 12}\n",
    "\n",
    "# Обновляем price (прямое присваивание).\n",
    "product[\"price\"] = 429\n",
    "\n",
    "# Добавляем булев ключ in_stock.\n",
    "product[\"in_stock\"] = product[\"qty\"] > 0  # True, если есть остаток\n",
    "\n",
    "# Просматриваем содержимое словаря.\n",
    "print(\"Ключи:\", list(product.keys()))\n",
    "print(\"Значения:\", list(product.values()))\n",
    "print(\"Пары:\", list(product.items()))"
   ]
  },
  {
   "cell_type": "code",
   "execution_count": 16,
   "id": "9bc1de66-8709-48d3-a6a3-7234c0328d07",
   "metadata": {},
   "outputs": [
    {
     "name": "stdout",
     "output_type": "stream",
     "text": [
      "\n",
      "DataFrame по городам (с индексом и сортировкой):\n",
      "         Population\n",
      "City              \n",
      "Moscow        12.6\n",
      "SPb            5.4\n",
      "Kazan          1.3\n"
     ]
    }
   ],
   "source": [
    "# преобразуйте список словарей вида [{'City': 'Moscow', 'Population': 12.6}, ...] в DataFrame.\n",
    "# Сделайте 'City' индексом и отсортируйте по 'Population' по убыванию.\n",
    "\n",
    "\n",
    "# pd.DataFrame(list_of_dicts); затем .set_index('City') и .sort_values('Population', ascending=False).\n",
    "\n",
    "\n",
    "# список словарей -> DataFrame -> индекс -> сортировка\n",
    "cities = [\n",
    "    {\"City\": \"Moscow\", \"Population\": 12.6},\n",
    "    {\"City\": \"Kazan\",  \"Population\": 1.3},\n",
    "    {\"City\": \"SPb\",    \"Population\": 5.4},\n",
    "]\n",
    "\n",
    "df_cities = pd.DataFrame(cities)\n",
    "df_cities = df_cities.set_index(\"City\").sort_values(\"Population\", ascending=False)\n",
    "\n",
    "print(\"\\nDataFrame по городам (с индексом и сортировкой):\\n\", df_cities)\n"
   ]
  },
  {
   "cell_type": "code",
   "execution_count": 17,
   "id": "9bb29d92-8835-4dc2-864b-cb8e40c4040c",
   "metadata": {},
   "outputs": [
    {
     "name": "stdout",
     "output_type": "stream",
     "text": [
      "    Name  BirthYear  Age\n",
      "0  Alice       1999   26\n",
      "1    Bob       1990   35\n",
      "2  Carol       1985   40\n"
     ]
    }
   ],
   "source": [
    "# создайте DataFrame с колонками \"Name\" и \"BirthYear\". Добавьте вычисляемую колонку \"Age\" как 2025 - BirthYear.\n",
    "\n",
    "\n",
    "# используйте арифметику по столбцам (df['Age'] = 2025 - df['BirthYear']) или метод .assign(Age=...).\n",
    "\n",
    "df = pd.DataFrame({\n",
    "    \"Name\": [\"Alice\", \"Bob\", \"Carol\"],\n",
    "    \"BirthYear\": [1999, 1990, 1985]\n",
    "})\n",
    "\n",
    "# Вариант A: прямое присваивание\n",
    "df[\"Age\"] = 2025 - df[\"BirthYear\"]\n",
    "\n",
    "# Вариант B: через .assign (удобен для \"цепочек\" операций)\n",
    "# df = df.assign(Age=2025 - df[\"BirthYear\"])\n",
    "\n",
    "print(df)"
   ]
  },
  {
   "cell_type": "code",
   "execution_count": 18,
   "id": "57a4d650-e1a9-4ece-90b7-2560f8bced20",
   "metadata": {},
   "outputs": [
    {
     "name": "stdout",
     "output_type": "stream",
     "text": [
      "Excel -> shape: (3, 3)\n",
      "Excel -> dtypes:\n",
      " Name      object\n",
      "Score      int64\n",
      "Passed      bool\n",
      "dtype: object \n",
      "\n",
      "CSV -> shape: (3, 3)\n",
      "CSV -> dtypes:\n",
      " Name      object\n",
      "Score      int64\n",
      "Passed      bool\n",
      "dtype: object \n",
      "\n",
      "JSON -> shape: (3, 3)\n",
      "JSON -> dtypes:\n",
      " Name      object\n",
      "Score      int64\n",
      "Passed      bool\n",
      "dtype: object\n"
     ]
    }
   ],
   "source": [
    "# сохраните произвольный DataFrame в Excel (лист \"Data\"), затем прочитайте его обратно в DataFrame.\n",
    "# После этого сохраните те же данные в CSV (без индекса) и JSON (orient='records'), прочитайте оба файла обратно.\n",
    "# На каждом шаге выводите форму и типы данных.\n",
    "\n",
    "\n",
    "# .to_excel(path, index=False, sheet_name='Data') и pd.read_excel(..., sheet_name='Data');\n",
    "#            .to_csv(path, index=False) и pd.read_csv(...);\n",
    "#            .to_json(path, orient='records', force_ascii=False) и pd.read_json(path, orient='records').\n",
    "\n",
    "\n",
    "df = pd.DataFrame({\n",
    "    \"Name\": [\"Alice\", \"Bob\", \"Carol\"],\n",
    "    \"Score\": [85, 90, 95],\n",
    "    \"Passed\": [True, True, True],\n",
    "})\n",
    "\n",
    "# === Excel ===\n",
    "excel_path = \"data.xlsx\"\n",
    "# Запись: один лист \"Data\".\n",
    "df.to_excel(excel_path, index=False, sheet_name=\"Data\")\n",
    "\n",
    "# Чтение обратно: указываем имя листа, чтобы получить именно его.\n",
    "df_xls = pd.read_excel(excel_path, sheet_name=\"Data\")\n",
    "print(\"Excel -> shape:\", df_xls.shape)\n",
    "print(\"Excel -> dtypes:\\n\", df_xls.dtypes, \"\\n\")\n",
    "\n",
    "# === CSV ===\n",
    "csv_path = \"data.csv\"\n",
    "df.to_csv(csv_path, index=False)\n",
    "\n",
    "df_csv = pd.read_csv(csv_path)\n",
    "print(\"CSV -> shape:\", df_csv.shape)\n",
    "print(\"CSV -> dtypes:\\n\", df_csv.dtypes, \"\\n\")\n",
    "\n",
    "# === JSON ===\n",
    "json_path = \"data.json\"\n",
    "# orient='records' - массив объектов; force_ascii=False - сохранить Unicode как есть (русские/иные символы).\n",
    "df.to_json(json_path, orient=\"records\", force_ascii=False)\n",
    "\n",
    "df_json = pd.read_json(json_path, orient=\"records\")\n",
    "print(\"JSON -> shape:\", df_json.shape)\n",
    "print(\"JSON -> dtypes:\\n\", df_json.dtypes)"
   ]
  },
  {
   "cell_type": "code",
   "execution_count": null,
   "id": "62083e6e-f9de-4e5c-b21e-769d9e0c24a1",
   "metadata": {},
   "outputs": [],
   "source": []
  }
 ],
 "metadata": {
  "kernelspec": {
   "display_name": "Python 3 (ipykernel)",
   "language": "python",
   "name": "python3"
  },
  "language_info": {
   "codemirror_mode": {
    "name": "ipython",
    "version": 3
   },
   "file_extension": ".py",
   "mimetype": "text/x-python",
   "name": "python",
   "nbconvert_exporter": "python",
   "pygments_lexer": "ipython3",
   "version": "3.11.6"
  }
 },
 "nbformat": 4,
 "nbformat_minor": 5
}
